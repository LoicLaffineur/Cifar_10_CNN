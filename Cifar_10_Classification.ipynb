{
  "cells": [
    {
      "cell_type": "markdown",
      "metadata": {
        "id": "INQNUwlo9Jih"
      },
      "source": [
        "# Cifar-10 : Computer Vision Classification"
      ]
    },
    {
      "cell_type": "code",
      "execution_count": null,
      "metadata": {
        "id": "j0DiuSI6JJHU"
      },
      "outputs": [],
      "source": [
        "#!pip install numpy==1.26.4"
      ]
    },
    {
      "cell_type": "code",
      "execution_count": null,
      "metadata": {
        "id": "7xZPUsXG9ctT"
      },
      "outputs": [],
      "source": [
        "import tensorflow as tf\n",
        "import tensorflow_datasets as tfds\n",
        "import numpy as np\n",
        "import matplotlib.pyplot as plt\n",
        "import tensorflow.keras.ops as ops\n",
        "import pandas as pd\n",
        "\n",
        "import random\n",
        "\n",
        "import pickle\n",
        "\n",
        "from sklearn.metrics import confusion_matrix, classification_report\n",
        "import itertools"
      ]
    },
    {
      "cell_type": "code",
      "execution_count": null,
      "metadata": {
        "id": "zsYlNVYx-yza"
      },
      "outputs": [],
      "source": [
        "#tfds.list_builders()"
      ]
    },
    {
      "cell_type": "code",
      "execution_count": null,
      "metadata": {
        "colab": {
          "base_uri": "https://localhost:8080/",
          "height": 148,
          "referenced_widgets": [
            "5279bb6082ae4b1995d290889bedabff",
            "e8063e1295174044839caa978a503125",
            "a6dc301424744b899b5868c502084638",
            "64574b7c7fd94d8b8965cdbad04723dc",
            "2c7bc592024e46ea909cf56b39e7634f",
            "8d0d153032b144cc8636a64430937f1b",
            "4ddd24929cb042a385e0fdbde74138f7",
            "044871c04ac64659a2875482770c9e79",
            "a7613b84b7844d63b89e80f443efaf19",
            "3ef8ff86747c4b22b5458e673bee73ca",
            "26bac098907441b6b6d86f9b6c67a6b3",
            "9fc9a3bf3fec4358a47d1fa8fd7e5651",
            "872df661ce514e5a8515a1f62cb55a12",
            "e1bfb4152b3743adb15e2c21ca038075",
            "a0f273ac687748a7a96e1e4346daece5",
            "cebb1bdc0dfc44f68ba2503e0aba4965",
            "1cecd6efc2094e3fb406098cd05bb474",
            "2a9c111fa80a4885b40fbc8bb8a2e5da",
            "0fba0d4348f94e0b88fb720b9e8f8fbf",
            "688811c37c45493690ff12faaf5b6e14",
            "9f3b52bb053c48eeb10a94b05462593a",
            "3312c6e5382b45cf8e39d79736486ef9",
            "688c42e54c1c4c06b0a01f1aa28ae4a6",
            "c17c930766b74065a38544e68b953a6b",
            "c5df2da3f7c94418a095fa109160b89d",
            "fb70cfc1e85f4a66997f10348766f438",
            "bbadf758e3fb40d5b2c96505244dcc73",
            "4249208ee6f94d6585f11361b1569014",
            "9452daa1a9ce4c14bcea4bf7a9378d11",
            "b75770183b184ff0ab66f7f5a91c70f4",
            "b1e3feb5ce94421c96565daeed34356b",
            "bfe0148f32a240169ccbe222854f050e",
            "99bd1201a08145ccadabdafde3b22057",
            "0e743af0bab243ee99e74af0808e11bd",
            "c06e27bc0f9c4629abae5f574bdda4a3",
            "5828e114140448dab00cb25a100409b2",
            "6438aa94137c47a1b531fff84aa781f1",
            "83a4947e4dd4409ea3d85c54a1b175c4",
            "dcc169f94d2f4d268dd0542f1a3479ef",
            "d83b87df183d4865a6db4c96c1aec572",
            "875f39a6a7ae43d1bbc22bfb8b0de997",
            "c101d5269e324a17b1c00209751d0083",
            "4266bf396fdc409f8bc47b0eed463756",
            "be9be1af897e4fd7ada4e25ba927d213",
            "5804ef672ada43499eb61f93ce4f14b8",
            "489058ac124d4a929ea44c151b4f46c6",
            "11c36381f1294edbbdad6a035e818ce1",
            "7e783aed2965433f8c6c0d5cf21857cb",
            "51b40757eaab4e75be4da97175b9c166",
            "b2eff29ea5e1410f82c7aef67b5b1352",
            "a85f7bb452d348f7b08867f5e2455ba1",
            "289b37cdbb34481892c2e4470ef1b040",
            "7e19b73578754431819d277c9de2a824",
            "8dc00bf45bb44b15ac2c35a7e455b125",
            "b5f133cf1cba4add96fff56a10665861",
            "461f033394504513848739e70693269d",
            "51580a122aa84b448cbfcd5b55916beb",
            "df71ab6649c5462493a0a6e0e84fb48c",
            "62d0b83369114b7f9d908b8803858bf6",
            "477ab05c80534606ad7d4381d0934eb5",
            "74ef7ecd0d8a40eabb556b6e7bebb8fe",
            "fc17c999563349048469225e2f87dfc6",
            "e6f005e20f8e487594acbaac39f75c77",
            "a1df5baaa13c47569b1db91bcf0f1798",
            "5b7bd42e5086422e8480581bfd2aa9c6",
            "7954fa20bc994196b9fbb9282fe3a61c",
            "0cdf1f0b465548989537719bb7c1d3f8",
            "570c4aef150944d4a7112ca8e3b748a0",
            "48a134116f1d4b75aef8681d45af79a6",
            "3afe3051091843a594f5d27ce02c8374",
            "2882a9dc8198433e8d720f21ebd013b5",
            "b022f15feec24be1ae413eb51d7b2678",
            "cfcfe7719b444fa1854de6bd8fd32819",
            "82f5ec7398a04384b51546aa4ffa1cb7",
            "39a2c4338e6747fd87e6755456e7db0d",
            "58517ffa4b684caab763716591443bcf",
            "758ee14203fd4f288dc5e936195599e6",
            "1903c3b4de0342938d5267f1108fab3e",
            "afc698a735d3428e9cacb12835941982",
            "ec0f566f2e42446c94cc3a4a1dc83873",
            "d6265eedd1c94ce0848907d231597d4d",
            "36871539d0e343af88c91a22654069f4",
            "e11e73d2470b477ea9a95f86a3d9e56a",
            "6ab0ccc98f824713ad87a2e9a644c35c",
            "5a453d03333247bf83f00c20ce65a21f",
            "8f18d3588f214110affd0b79856db55b",
            "3b76be786529473fa968050bea45c2bd",
            "bd7657d6961f4775bc51a747effe6f46"
          ]
        },
        "id": "sn6UxNvB95ov",
        "outputId": "edd2bf23-f4ea-4c61-cb75-7acffcaf7e66"
      },
      "outputs": [],
      "source": [
        "(data_train, data_test, data_val), infos = tfds.load('cifar10',split=['train[:48000]','train[48000:]+test[:4000]','test[4000:]'], shuffle_files=True, # 80/10/10%\n",
        "                      as_supervised=True, with_info=True)"
      ]
    },
    {
      "cell_type": "markdown",
      "metadata": {
        "id": "j9zDxlUKFo9b"
      },
      "source": [
        "## Explore data :"
      ]
    },
    {
      "cell_type": "code",
      "execution_count": null,
      "metadata": {
        "id": "LogHGwMV_Wo-"
      },
      "outputs": [],
      "source": [
        "class_names=infos.features['label'].names"
      ]
    },
    {
      "cell_type": "code",
      "execution_count": null,
      "metadata": {
        "colab": {
          "base_uri": "https://localhost:8080/"
        },
        "id": "kgWE9HnqaF9j",
        "outputId": "04639ee9-255a-474c-86e8-9baecd8a27ea"
      },
      "outputs": [],
      "source": [
        "data_train.cardinality(), data_test.cardinality(), data_val.cardinality()"
      ]
    },
    {
      "cell_type": "code",
      "execution_count": null,
      "metadata": {
        "colab": {
          "base_uri": "https://localhost:8080/",
          "height": 54
        },
        "id": "BwHvLdLgRUXC",
        "outputId": "9c352183-3cb5-4abd-a204-2a59e4785cb3"
      },
      "outputs": [],
      "source": [
        "tfds.show_examples(data_train,infos);"
      ]
    },
    {
      "cell_type": "code",
      "execution_count": null,
      "metadata": {
        "colab": {
          "base_uri": "https://localhost:8080/"
        },
        "id": "XCnYuCyDAd5U",
        "outputId": "dfa6c9df-b96d-4f51-871c-3b5499a0844e"
      },
      "outputs": [],
      "source": [
        "for image, label in data_train.take(1):\n",
        "    print(image.dtype)\n",
        "    print(image.numpy().min())\n",
        "    print(image.numpy().max())"
      ]
    },
    {
      "cell_type": "markdown",
      "metadata": {
        "id": "edX-gSwxFsKB"
      },
      "source": [
        "## Preprocessing :"
      ]
    },
    {
      "cell_type": "markdown",
      "metadata": {
        "id": "bYEGcFb86s7S"
      },
      "source": [
        "### Rescale, Resize, Batch :"
      ]
    },
    {
      "cell_type": "code",
      "execution_count": null,
      "metadata": {
        "id": "_86unqr5CIMv"
      },
      "outputs": [],
      "source": [
        "# Preprocessing data : ensure they all have the same size (32x32x3), datas are scaled [0,1] and type float32\n",
        "resize_rescale = tf.keras.Sequential([\n",
        "    tf.keras.layers.Resizing(32,32),\n",
        "    tf.keras.layers.Rescaling(1./255)\n",
        "])\n",
        "\n",
        "data_augmentation = tf.keras.Sequential([\n",
        "  tf.keras.layers.RandomFlip(\"horizontal\"),\n",
        "  tf.keras.layers.RandomRotation(0.2),\n",
        "  tf.keras.layers.RandomZoom(0.2),\n",
        "  tf.keras.layers.RandomHeight(0.2),\n",
        "  tf.keras.layers.RandomWidth(0.2)\n",
        "])\n",
        "\n",
        "data_augmentation_01 = tf.keras.Sequential([\n",
        "  tf.keras.layers.RandomFlip(\"horizontal\"),\n",
        "  tf.keras.layers.RandomRotation(0.1),\n",
        "  tf.keras.layers.RandomZoom(0.1),\n",
        "  tf.keras.layers.RandomHeight(0.1),\n",
        "  tf.keras.layers.RandomWidth(0.1)\n",
        "])\n",
        "\n",
        "def preprocess(data, val=0, augment=False) :\n",
        "  data = data.shuffle(buffer_size=1000) #Shuffle data\n",
        "\n",
        "  if augment and val==0.1:\n",
        "    data=data.map(lambda x, y: (data_augmentation_01(x), y), num_parallel_calls=tf.data.AUTOTUNE) #Augment if necessary\n",
        "\n",
        "  if augment and val==0.2:\n",
        "    data=data.map(lambda x, y: (data_augmentation(x), y), num_parallel_calls=tf.data.AUTOTUNE) #Augment if necessary\n",
        "\n",
        "  data=data.map(lambda x, y: (resize_rescale(x), y), num_parallel_calls=tf.data.AUTOTUNE) #Resize, rescale\n",
        "\n",
        "  data=data.batch(64) # Batch de 64, CHOIX\n",
        "\n",
        "  return data.prefetch(buffer_size=tf.data.AUTOTUNE)"
      ]
    },
    {
      "cell_type": "code",
      "execution_count": null,
      "metadata": {
        "colab": {
          "base_uri": "https://localhost:8080/"
        },
        "id": "V3-9ySHb9g1a",
        "outputId": "59d74887-3fcd-429d-c5d4-f51f277cba1f"
      },
      "outputs": [],
      "source": [
        "batch_train=preprocess(data_train)\n",
        "batch_test=preprocess(data_test)\n",
        "batch_val=preprocess(data_val)\n",
        "\n",
        "batch_train, batch_test, batch_val"
      ]
    },
    {
      "cell_type": "code",
      "execution_count": null,
      "metadata": {
        "id": "Xxc_UApVuCYv"
      },
      "outputs": [],
      "source": [
        "aug_train=preprocess(data_train,augment=True, val=0.2)\n",
        "\n",
        "aug_train_01=preprocess(data_train,augment=True, val=0.1)"
      ]
    },
    {
      "cell_type": "markdown",
      "metadata": {
        "id": "56Df4Qea_aIR"
      },
      "source": [
        "### Visualisation :"
      ]
    },
    {
      "cell_type": "code",
      "execution_count": null,
      "metadata": {
        "colab": {
          "base_uri": "https://localhost:8080/",
          "height": 124
        },
        "id": "6tY4rGnw-pUU",
        "outputId": "561c47bb-c995-4c45-f013-897a6387f780"
      },
      "outputs": [],
      "source": [
        "plt.figure(figsize=(5,5))\n",
        "\n",
        "plt.subplot(2,2,1)\n",
        "plt.imshow(image)\n",
        "plt.title('Original')\n",
        "plt.axis(False)\n",
        "\n",
        "plt.subplot(2,2,2)\n",
        "plt.imshow(resize_rescale(image))\n",
        "plt.title('Scaled')\n",
        "plt.axis(False)\n",
        "\n",
        "plt.subplot(2,2,3)\n",
        "plt.imshow(resize_rescale(data_augmentation(image)))\n",
        "plt.title('aug 0.2')\n",
        "plt.axis(False)\n",
        "\n",
        "plt.subplot(2,2,4)\n",
        "plt.imshow(resize_rescale(data_augmentation_01(image)))\n",
        "plt.title('aug 0.1')\n",
        "plt.axis(False)"
      ]
    },
    {
      "cell_type": "markdown",
      "metadata": {
        "id": "1tgBS2bpGB1h"
      },
      "source": [
        "## Modelling :"
      ]
    },
    {
      "cell_type": "code",
      "execution_count": null,
      "metadata": {
        "id": "He7gbiNUGPb8"
      },
      "outputs": [],
      "source": [
        "# Enable mixed precision training : Better use of GPU's Memory by using lfoat32 and float16 when possible\n",
        "from tensorflow.keras import mixed_precision\n",
        "mixed_precision.set_global_policy('mixed_float16')"
      ]
    },
    {
      "cell_type": "code",
      "execution_count": null,
      "metadata": {
        "colab": {
          "base_uri": "https://localhost:8080/"
        },
        "id": "zme6M2JGJJHf",
        "outputId": "d9870f5b-d924-4490-ecdb-913188727fbb"
      },
      "outputs": [],
      "source": [
        "mixed_precision.global_policy()"
      ]
    },
    {
      "cell_type": "code",
      "execution_count": null,
      "metadata": {
        "id": "YJm-kiVDGDxH"
      },
      "outputs": [],
      "source": [
        "checkpoint_path=\"best_model_cifar10.weights.h5\"\n",
        "\n",
        "# Callbacks :\n",
        "\n",
        "early_stop = tf.keras.callbacks.EarlyStopping(monitor='val_loss', patience=5, verbose=1)\n",
        "\n",
        "LrReducer = tf.keras.callbacks.ReduceLROnPlateau(monitor='val_loss', factor=0.2, patience=2, verbose=1, min_lr=1e-7) # Only when the val_loss doesn't go down for 2 epochs\n",
        "\n",
        "checkpoint = tf.keras.callbacks.ModelCheckpoint(checkpoint_path, monitor='val_accuracy', verbose=0, save_best_only=True, save_weights_only=True, mode='max')"
      ]
    },
    {
      "cell_type": "markdown",
      "metadata": {
        "id": "jbNLD1tsoQqd"
      },
      "source": [
        "### Baseline & data augmentation or not :"
      ]
    },
    {
      "cell_type": "code",
      "execution_count": null,
      "metadata": {
        "colab": {
          "base_uri": "https://localhost:8080/",
          "height": 356
        },
        "id": "Chisiv04GFVn",
        "outputId": "4f0b589d-a366-4ae0-9de4-e49fa9d6fdc7"
      },
      "outputs": [],
      "source": [
        "tf.random.set_seed(42)\n",
        "random.seed(42)\n",
        "\n",
        "model_0=tf.keras.Sequential([\n",
        "    tf.keras.layers.Input(shape=(32,32,3)),\n",
        "\n",
        "    tf.keras.layers.Conv2D(filters=32,kernel_size=3,activation='relu', padding='same'), # One bloc only\n",
        "    tf.keras.layers.BatchNormalization(),\n",
        "    tf.keras.layers.Conv2D(filters=32,kernel_size=3,activation='relu', padding='same'),\n",
        "    tf.keras.layers.BatchNormalization(),\n",
        "    tf.keras.layers.MaxPool2D(pool_size=2),\n",
        "\n",
        "    tf.keras.layers.GlobalAveragePooling2D(),\n",
        "    tf.keras.layers.Dense(units=10),\n",
        "    tf.keras.layers.Activation('softmax', dtype=tf.float32)\n",
        "\n",
        "])\n",
        "\n",
        "model_0.compile(loss=tf.keras.losses.SparseCategoricalCrossentropy(),\n",
        "                optimizer=tf.keras.optimizers.Adam(),\n",
        "                metrics=['accuracy'])\n",
        "\n",
        "history_0=model_0.fit(batch_train,epochs=30,validation_data=batch_val,callbacks=[early_stop,LrReducer,checkpoint])"
      ]
    },
    {
      "cell_type": "code",
      "execution_count": null,
      "metadata": {
        "colab": {
          "base_uri": "https://localhost:8080/",
          "height": 442
        },
        "id": "S_Df6muthVZd",
        "outputId": "633f2222-5105-432a-f161-ee84320398ce"
      },
      "outputs": [],
      "source": [
        "model_0.summary()"
      ]
    },
    {
      "cell_type": "code",
      "execution_count": null,
      "metadata": {
        "colab": {
          "base_uri": "https://localhost:8080/"
        },
        "id": "3bjSDCC9nG4f",
        "outputId": "c957b548-be0e-4f00-e0ab-a24a011ed096"
      },
      "outputs": [],
      "source": [
        "res_0=model_0.evaluate(batch_test) # 65% accuracy"
      ]
    },
    {
      "cell_type": "code",
      "execution_count": null,
      "metadata": {
        "id": "Uoz8fa5BtQoW"
      },
      "outputs": [],
      "source": [
        "df_0=pd.DataFrame(history_0.history).drop('learning_rate',axis=1)\n",
        "df_0.columns=['accuracy_0','loss_0','val_accuracy_0','val_loss_0']\n",
        "df_0_acc=df_0.loc[:,['accuracy_0','val_accuracy_0']]\n",
        "df_0_loss=df_0.loc[:,['loss_0','val_loss_0']]"
      ]
    },
    {
      "cell_type": "code",
      "execution_count": null,
      "metadata": {
        "id": "e99e7iL5tHtn"
      },
      "outputs": [],
      "source": [
        "model_0.save('model_0.keras')\n",
        "\n",
        "with open('history_0', 'wb') as f:\n",
        "    pickle.dump(history_0.history, f)"
      ]
    },
    {
      "cell_type": "markdown",
      "metadata": {
        "id": "qImVI4VQbH8w"
      },
      "source": [
        "#### With data augmentation (val=0.2) :"
      ]
    },
    {
      "cell_type": "code",
      "execution_count": null,
      "metadata": {
        "colab": {
          "base_uri": "https://localhost:8080/"
        },
        "id": "GnV5Eq2Wa7Za",
        "outputId": "fb6c0f9c-02df-44a6-c1da-8a97634cb544"
      },
      "outputs": [],
      "source": [
        "tf.random.set_seed(42)\n",
        "random.seed(42)\n",
        "\n",
        "model_0_aug=tf.keras.Sequential([\n",
        "    tf.keras.layers.Input(shape=(32,32,3)),\n",
        "\n",
        "    tf.keras.layers.Conv2D(filters=32,kernel_size=3,activation='relu', padding='same'), \n",
        "    tf.keras.layers.BatchNormalization(),\n",
        "    tf.keras.layers.Conv2D(filters=32,kernel_size=3,activation='relu', padding='same'),\n",
        "    tf.keras.layers.BatchNormalization(),\n",
        "    tf.keras.layers.MaxPool2D(pool_size=2),\n",
        "\n",
        "    tf.keras.layers.GlobalAveragePooling2D(),\n",
        "    tf.keras.layers.Dense(units=10),\n",
        "    tf.keras.layers.Activation('softmax', dtype=tf.float32)\n",
        "])\n",
        "\n",
        "model_0_aug.compile(loss=tf.keras.losses.SparseCategoricalCrossentropy(),\n",
        "                optimizer=tf.keras.optimizers.Adam(),\n",
        "                metrics=['accuracy'])\n",
        "\n",
        "history_0_aug=model_0_aug.fit(aug_train,epochs=30,validation_data=batch_val,callbacks=[early_stop,LrReducer,checkpoint]) # data augmentation"
      ]
    },
    {
      "cell_type": "code",
      "execution_count": null,
      "metadata": {
        "colab": {
          "base_uri": "https://localhost:8080/"
        },
        "id": "SKfUmaLsbCFz",
        "outputId": "d0df137c-b47c-4d14-bd5a-b0ec5857d834"
      },
      "outputs": [],
      "source": [
        "model_0_aug.evaluate(batch_test) # 41% accuracy"
      ]
    },
    {
      "cell_type": "markdown",
      "metadata": {
        "id": "Gg1NMBOAbHoP"
      },
      "source": [
        "The data augmentation with val=0.2 doesn't help with generalization at all it even worsen the learning."
      ]
    },
    {
      "cell_type": "code",
      "execution_count": null,
      "metadata": {
        "id": "afeBBg6ZbR5i"
      },
      "outputs": [],
      "source": [
        "del model_0_aug, history_0_aug, aug_train"
      ]
    },
    {
      "cell_type": "markdown",
      "metadata": {
        "id": "XZA3HlAibFq-"
      },
      "source": [
        "#### With data augmentation (val=0.1) :"
      ]
    },
    {
      "cell_type": "code",
      "execution_count": null,
      "metadata": {
        "colab": {
          "base_uri": "https://localhost:8080/"
        },
        "id": "a1-YNGUIbS2M",
        "outputId": "8381a3b7-ab4f-4fc1-8e82-522fe8fafecd"
      },
      "outputs": [],
      "source": [
        "tf.random.set_seed(42)\n",
        "random.seed(42)\n",
        "\n",
        "model_0_aug01=tf.keras.Sequential([\n",
        "    tf.keras.layers.Input(shape=(32,32,3)),\n",
        "\n",
        "    tf.keras.layers.Conv2D(filters=32,kernel_size=3,activation='relu', padding='same'), \n",
        "    tf.keras.layers.BatchNormalization(),\n",
        "    tf.keras.layers.Conv2D(filters=32,kernel_size=3,activation='relu', padding='same'),\n",
        "    tf.keras.layers.BatchNormalization(),\n",
        "    tf.keras.layers.MaxPool2D(pool_size=2),\n",
        "\n",
        "    tf.keras.layers.GlobalAveragePooling2D(),\n",
        "    tf.keras.layers.Dense(units=10),\n",
        "    tf.keras.layers.Activation('softmax', dtype=tf.float32)\n",
        "])\n",
        "\n",
        "model_0_aug01.compile(loss=tf.keras.losses.SparseCategoricalCrossentropy(),\n",
        "                optimizer=tf.keras.optimizers.Adam(),\n",
        "                metrics=['accuracy'])\n",
        "\n",
        "history_0_aug01=model_0_aug01.fit(aug_train_01,epochs=30,validation_data=batch_val,callbacks=[early_stop,LrReducer,checkpoint]) # Data augmentation"
      ]
    },
    {
      "cell_type": "code",
      "execution_count": null,
      "metadata": {
        "colab": {
          "base_uri": "https://localhost:8080/"
        },
        "id": "EqXoXxkRbT0u",
        "outputId": "8affaf76-2967-4ac2-a759-10ef8f98553f"
      },
      "outputs": [],
      "source": [
        "model_0_aug01.evaluate(batch_test) # 50% accuracy"
      ]
    },
    {
      "cell_type": "markdown",
      "metadata": {
        "id": "U7DkGw7kgUqs"
      },
      "source": [
        "#### Conclusion :"
      ]
    },
    {
      "cell_type": "code",
      "execution_count": null,
      "metadata": {
        "colab": {
          "base_uri": "https://localhost:8080/",
          "height": 447
        },
        "id": "aPvgFEoBdvLx",
        "outputId": "0d428a7c-e538-4e79-f1c6-8f68b031e149"
      },
      "outputs": [],
      "source": [
        "pd.concat([pd.DataFrame(history_0.history).drop('learning_rate',axis=1),pd.DataFrame(history_0_aug01.history).drop('learning_rate',axis=1)],axis=1).plot()"
      ]
    },
    {
      "cell_type": "markdown",
      "metadata": {
        "id": "YHHl_P_1mGtG"
      },
      "source": [
        "Data augmentation doesn't help with generalization and worsen the learning in general. The benchmark for amelioration is model_0 (68% accuracy)."
      ]
    },
    {
      "cell_type": "code",
      "execution_count": null,
      "metadata": {
        "colab": {
          "base_uri": "https://localhost:8080/",
          "height": 141
        },
        "id": "23OStlhsgYvs",
        "outputId": "9240107e-23e8-418d-fb6f-d5e9e5b743f6"
      },
      "outputs": [],
      "source": [
        "del aug_train_01, model_0_aug01, history_0_aug01, data_augmentation_01"
      ]
    },
    {
      "cell_type": "markdown",
      "metadata": {
        "id": "VGAjtE81oTSu"
      },
      "source": [
        "### Valid vs same padding"
      ]
    },
    {
      "cell_type": "markdown",
      "metadata": {
        "id": "VhpOb1rXdOuK"
      },
      "source": [
        "#### Valid :"
      ]
    },
    {
      "cell_type": "code",
      "execution_count": null,
      "metadata": {
        "colab": {
          "base_uri": "https://localhost:8080/"
        },
        "id": "PkUAvJ0SdOXV",
        "outputId": "08dba573-5996-4e44-c81f-e66ba9e4dd18"
      },
      "outputs": [],
      "source": [
        "tf.random.set_seed(42)\n",
        "random.seed(42)\n",
        "\n",
        "model_0_valid=tf.keras.Sequential([ #Same architecture as previously\n",
        "    tf.keras.layers.Input(shape=(32,32,3)),\n",
        "\n",
        "    tf.keras.layers.Conv2D(filters=32,kernel_size=3,activation='relu', padding='valid'), # using valid padding\n",
        "    tf.keras.layers.BatchNormalization(),\n",
        "    tf.keras.layers.Conv2D(filters=32,kernel_size=3,activation='relu', padding='valid'),\n",
        "    tf.keras.layers.BatchNormalization(),\n",
        "    tf.keras.layers.MaxPool2D(pool_size=2),\n",
        "\n",
        "    tf.keras.layers.GlobalAveragePooling2D(),\n",
        "    tf.keras.layers.Dense(units=10),\n",
        "    tf.keras.layers.Activation('softmax', dtype=tf.float32)\n",
        "])\n",
        "\n",
        "model_0_valid.compile(loss=tf.keras.losses.SparseCategoricalCrossentropy(),\n",
        "                optimizer=tf.keras.optimizers.Adam(),\n",
        "                metrics=['accuracy'])\n",
        "\n",
        "history_0_valid=model_0_valid.fit(batch_train,epochs=30,validation_data=batch_val,callbacks=[early_stop,LrReducer,checkpoint])"
      ]
    },
    {
      "cell_type": "code",
      "execution_count": null,
      "metadata": {
        "colab": {
          "base_uri": "https://localhost:8080/"
        },
        "id": "vVMHLA-Mdc2f",
        "outputId": "c5dd248f-01c8-417d-dbdd-3dd9d22ad42b"
      },
      "outputs": [],
      "source": [
        "model_0_valid.evaluate(batch_test) # 64%"
      ]
    },
    {
      "cell_type": "markdown",
      "metadata": {
        "id": "29goZrp0deYi"
      },
      "source": [
        "#### Conclusion  :"
      ]
    },
    {
      "cell_type": "code",
      "execution_count": null,
      "metadata": {
        "colab": {
          "base_uri": "https://localhost:8080/",
          "height": 211
        },
        "id": "VSPr1eRklrLF",
        "outputId": "9307ca5b-18b3-407d-85d5-ba13afdf368e"
      },
      "outputs": [],
      "source": [
        "df_valid=pd.DataFrame(history_0_valid.history).drop('learning_rate',axis=1)\n",
        "df_valid.columns=['accuracy_valid','loss_valid','val_accuracy_valid','val_loss_valid']\n",
        "df_valid_acc=df_valid.loc[:,['accuracy_valid','val_accuracy_valid']]\n",
        "df_valid_loss=df_valid.loc[:,['loss_valid','val_loss_valid']]"
      ]
    },
    {
      "cell_type": "code",
      "execution_count": null,
      "metadata": {
        "colab": {
          "base_uri": "https://localhost:8080/",
          "height": 860
        },
        "id": "VUfTP3TxmESU",
        "outputId": "a7bd8430-18e6-43b9-d251-d4223dcef549"
      },
      "outputs": [],
      "source": [
        "pd.concat([df_0_acc,df_valid_acc],axis=1).plot()\n",
        "pd.concat([df_0_loss,df_valid_loss],axis=1).plot()"
      ]
    },
    {
      "cell_type": "markdown",
      "metadata": {
        "id": "FeCRLXGXo41V"
      },
      "source": [
        "Same padding seems to be better in loss and accuraccy in this case but they're close to each other."
      ]
    },
    {
      "cell_type": "code",
      "execution_count": null,
      "metadata": {
        "id": "LjJy2y3qnFp1"
      },
      "outputs": [],
      "source": [
        "del model_0_valid, history_0_valid, df_valid, df_valid_acc, df_valid_loss"
      ]
    },
    {
      "cell_type": "markdown",
      "metadata": {
        "id": "yL878dPaGevp"
      },
      "source": [
        "### Relu vs tanh vs sigmoid"
      ]
    },
    {
      "cell_type": "markdown",
      "metadata": {
        "id": "dxu45tfjhuey"
      },
      "source": [
        "#### Sigmoid :"
      ]
    },
    {
      "cell_type": "code",
      "execution_count": null,
      "metadata": {
        "colab": {
          "base_uri": "https://localhost:8080/"
        },
        "id": "ldpmmiEPhRnX",
        "outputId": "83dcbc24-229c-4681-9bc7-a908ab5f672f"
      },
      "outputs": [],
      "source": [
        "tf.random.set_seed(42)\n",
        "random.seed(42)\n",
        "\n",
        "model_0_sig=tf.keras.Sequential([ #Same architecture as previously\n",
        "    tf.keras.layers.Input(shape=(32,32,3)),\n",
        "\n",
        "    tf.keras.layers.Conv2D(filters=32,kernel_size=3,activation='sigmoid', padding='same'), # using sigmoid activation\n",
        "    tf.keras.layers.BatchNormalization(),\n",
        "    tf.keras.layers.Conv2D(filters=32,kernel_size=3,activation='sigmoid', padding='same'),\n",
        "    tf.keras.layers.BatchNormalization(),\n",
        "    tf.keras.layers.MaxPool2D(pool_size=2),\n",
        "\n",
        "    tf.keras.layers.GlobalAveragePooling2D(),\n",
        "    tf.keras.layers.Dense(units=10),\n",
        "    tf.keras.layers.Activation('softmax', dtype=tf.float32)\n",
        "\n",
        "])\n",
        "\n",
        "model_0_sig.compile(loss=tf.keras.losses.SparseCategoricalCrossentropy(),\n",
        "                optimizer=tf.keras.optimizers.Adam(),\n",
        "                metrics=['accuracy'])\n",
        "\n",
        "history_0_sig=model_0_sig.fit(batch_train,epochs=30,validation_data=batch_val,callbacks=[early_stop,LrReducer,checkpoint])"
      ]
    },
    {
      "cell_type": "code",
      "execution_count": null,
      "metadata": {
        "colab": {
          "base_uri": "https://localhost:8080/"
        },
        "id": "c7QreKNvhtkr",
        "outputId": "cbe96d9a-bbed-4630-d8d7-9856e5049d05"
      },
      "outputs": [],
      "source": [
        "model_0_sig.evaluate(batch_test) # 53%"
      ]
    },
    {
      "cell_type": "markdown",
      "metadata": {
        "id": "akl2sTzrhwUi"
      },
      "source": [
        "#### Tanh :"
      ]
    },
    {
      "cell_type": "code",
      "execution_count": null,
      "metadata": {
        "colab": {
          "base_uri": "https://localhost:8080/"
        },
        "id": "7t-0MIpUhRlF",
        "outputId": "d692883b-6faa-45f8-d422-1f3f0f9f5ed2"
      },
      "outputs": [],
      "source": [
        "tf.random.set_seed(42)\n",
        "random.seed(42)\n",
        "\n",
        "model_0_tanh=tf.keras.Sequential([ #Same architecture as previously\n",
        "    tf.keras.layers.Input(shape=(32,32,3)),\n",
        "\n",
        "    tf.keras.layers.Conv2D(filters=32,kernel_size=3,activation='tanh', padding='same'), # using tanh activation\n",
        "    tf.keras.layers.BatchNormalization(),\n",
        "    tf.keras.layers.Conv2D(filters=32,kernel_size=3,activation='tanh', padding='same'),\n",
        "    tf.keras.layers.BatchNormalization(),\n",
        "    tf.keras.layers.MaxPool2D(pool_size=2),\n",
        "\n",
        "    tf.keras.layers.GlobalAveragePooling2D(),\n",
        "    tf.keras.layers.Dense(units=10),\n",
        "    tf.keras.layers.Activation('softmax', dtype=tf.float32)\n",
        "\n",
        "])\n",
        "\n",
        "model_0_tanh.compile(loss=tf.keras.losses.SparseCategoricalCrossentropy(),\n",
        "                optimizer=tf.keras.optimizers.Adam(),\n",
        "                metrics=['accuracy'])\n",
        "\n",
        "history_0_tanh=model_0_tanh.fit(batch_train,epochs=30,validation_data=batch_val,callbacks=[early_stop,LrReducer,checkpoint])"
      ]
    },
    {
      "cell_type": "code",
      "execution_count": null,
      "metadata": {
        "colab": {
          "base_uri": "https://localhost:8080/"
        },
        "id": "BJYx9rO3huBj",
        "outputId": "0482fb63-869b-40bb-820f-81d69bfa3e9a"
      },
      "outputs": [],
      "source": [
        "model_0_tanh.evaluate(batch_test) # 55%"
      ]
    },
    {
      "cell_type": "markdown",
      "metadata": {
        "id": "o-4ASMoghRiX"
      },
      "source": [
        "#### Conclusion :"
      ]
    },
    {
      "cell_type": "code",
      "execution_count": null,
      "metadata": {
        "id": "x5_oc_xrhRft"
      },
      "outputs": [],
      "source": [
        "df_sig=pd.DataFrame(history_0_sig.history).drop('learning_rate',axis=1)\n",
        "df_sig.columns=['accuracy_sig','loss_sig','val_accuracy_sig','val_loss_sig']\n",
        "df_sig_acc=df_sig.loc[:,['accuracy_sig','val_accuracy_sig']]\n",
        "df_sig_loss=df_sig.loc[:,['loss_sig','val_loss_sig']]\n",
        "\n",
        "df_tanh=pd.DataFrame(history_0_tanh.history).drop('learning_rate',axis=1)\n",
        "df_tanh.columns=['accuracy_tanh','loss_tanh','val_accuracy_tanh','val_loss_tanh']\n",
        "df_tanh_acc=df_tanh.loc[:,['accuracy_tanh','val_accuracy_tanh']]\n",
        "df_tanh_loss=df_tanh.loc[:,['loss_tanh','val_loss_tanh']]"
      ]
    },
    {
      "cell_type": "code",
      "execution_count": null,
      "metadata": {
        "colab": {
          "base_uri": "https://localhost:8080/",
          "height": 860
        },
        "id": "X9b_-n6rhRdF",
        "outputId": "7c23fc85-32ee-45ad-d7af-0d6fcd629f6e"
      },
      "outputs": [],
      "source": [
        "pd.concat([df_0_acc,df_sig_acc,df_tanh_acc],axis=1).plot()\n",
        "pd.concat([df_0_loss,df_sig_loss,df_tanh_loss],axis=1).plot()"
      ]
    },
    {
      "cell_type": "markdown",
      "metadata": {
        "id": "KtCPEsLvhRaR"
      },
      "source": [
        "ReLU is the best option here."
      ]
    },
    {
      "cell_type": "code",
      "execution_count": null,
      "metadata": {
        "id": "9GLXpTdXo_pC"
      },
      "outputs": [],
      "source": [
        "del model_0_sig, history_0_sig, model_0_tanh, history_0_tanh, df_sig, df_sig_acc, df_sig_loss, df_tanh, df_tanh_acc, df_tanh_loss"
      ]
    },
    {
      "cell_type": "markdown",
      "metadata": {
        "id": "5uEXPAsthRXn"
      },
      "source": [
        "### Adam vs AdamW"
      ]
    },
    {
      "cell_type": "markdown",
      "metadata": {
        "id": "0tFU65RIoPBi"
      },
      "source": [
        "#### AdamW"
      ]
    },
    {
      "cell_type": "code",
      "execution_count": null,
      "metadata": {
        "colab": {
          "base_uri": "https://localhost:8080/"
        },
        "id": "VkCrKfAMhRUw",
        "outputId": "6fc45382-8c44-4acf-d844-b6936ec84d26"
      },
      "outputs": [],
      "source": [
        "tf.random.set_seed(42)\n",
        "random.seed(42)\n",
        "\n",
        "model_0_adamw=tf.keras.Sequential([ #Same architecture as previously\n",
        "    tf.keras.layers.Input(shape=(32,32,3)),\n",
        "\n",
        "    tf.keras.layers.Conv2D(filters=32,kernel_size=3,activation='relu', padding='same'),\n",
        "    tf.keras.layers.BatchNormalization(),\n",
        "    tf.keras.layers.Conv2D(filters=32,kernel_size=3,activation='relu', padding='same'),\n",
        "    tf.keras.layers.BatchNormalization(),\n",
        "    tf.keras.layers.MaxPool2D(pool_size=2),\n",
        "\n",
        "    tf.keras.layers.GlobalAveragePooling2D(),\n",
        "    tf.keras.layers.Dense(units=10),\n",
        "    tf.keras.layers.Activation('softmax', dtype=tf.float32)\n",
        "\n",
        "])\n",
        "\n",
        "model_0_adamw.compile(loss=tf.keras.losses.SparseCategoricalCrossentropy(),\n",
        "                optimizer=tf.keras.optimizers.AdamW(weight_decay=0.004), #AdamW with decay=0.004, the default\n",
        "                metrics=['accuracy'])\n",
        "\n",
        "history_0_adamw=model_0_adamw.fit(batch_train,epochs=30,validation_data=batch_val,callbacks=[early_stop,LrReducer,checkpoint])"
      ]
    },
    {
      "cell_type": "code",
      "execution_count": null,
      "metadata": {
        "colab": {
          "base_uri": "https://localhost:8080/"
        },
        "id": "RsWSefv7hRR4",
        "outputId": "872d3b13-1e07-4e6b-d83f-5bd59b3370ed"
      },
      "outputs": [],
      "source": [
        "model_0_adamw.evaluate(batch_test) # 66%"
      ]
    },
    {
      "cell_type": "markdown",
      "metadata": {
        "id": "5sRKt9iooZBI"
      },
      "source": [
        "#### Conclusion :"
      ]
    },
    {
      "cell_type": "code",
      "execution_count": null,
      "metadata": {
        "id": "xtFAKutkoY-Z"
      },
      "outputs": [],
      "source": [
        "df_adamw=pd.DataFrame(history_0_adamw.history).drop('learning_rate',axis=1)\n",
        "df_adamw.columns=['accuracy_adamw','loss_adamw','val_accuracy_adamw','val_loss_adamw']\n",
        "df_adamw_acc=df_adamw.loc[:,['accuracy_adamw','val_accuracy_adamw']]\n",
        "df_adamw_loss=df_adamw.loc[:,['loss_adamw','val_loss_adamw']]"
      ]
    },
    {
      "cell_type": "code",
      "execution_count": null,
      "metadata": {
        "colab": {
          "base_uri": "https://localhost:8080/",
          "height": 860
        },
        "id": "ua7tQH-7oY7r",
        "outputId": "3ba99aaf-7ead-4c66-b3c5-b2fd7e91c970"
      },
      "outputs": [],
      "source": [
        "pd.concat([df_0_acc,df_adamw_acc],axis=1).plot()\n",
        "pd.concat([df_0_loss,df_adamw_loss],axis=1).plot()"
      ]
    },
    {
      "cell_type": "markdown",
      "metadata": {
        "id": "pSn325FFrYCM"
      },
      "source": [
        "Adam is better here."
      ]
    },
    {
      "cell_type": "markdown",
      "metadata": {
        "id": "U6z9JCk3oY5E"
      },
      "source": [
        "### Architecture (Can start from here) :"
      ]
    },
    {
      "cell_type": "code",
      "execution_count": null,
      "metadata": {
        "id": "BNk-mpUTuX7R"
      },
      "outputs": [],
      "source": [
        "model_0 = tf.keras.models.load_model('model_0.keras')\n",
        "\n",
        "with open('history_0', \"rb\") as f:\n",
        "    history_0 = pickle.load(f)\n",
        "\n",
        "df_0=pd.DataFrame(history_0).drop('learning_rate',axis=1)\n",
        "df_0.columns=['accuracy_0','loss_0','val_accuracy_0','val_loss_0']\n",
        "df_0_acc=df_0.loc[:,['accuracy_0','val_accuracy_0']]\n",
        "df_0_loss=df_0.loc[:,['loss_0','val_loss_0']]"
      ]
    },
    {
      "cell_type": "markdown",
      "metadata": {
        "id": "61yf6oxSxHke"
      },
      "source": [
        "#### Model 1 : 1 Bloc 64 filters"
      ]
    },
    {
      "cell_type": "code",
      "execution_count": null,
      "metadata": {
        "colab": {
          "base_uri": "https://localhost:8080/"
        },
        "id": "FTdlmo1esOpm",
        "outputId": "c50acd16-fedc-4f34-fd31-e5b6ee19ef41"
      },
      "outputs": [],
      "source": [
        "tf.random.set_seed(42)\n",
        "random.seed(42)\n",
        "\n",
        "model_1=tf.keras.Sequential([\n",
        "    tf.keras.layers.Input(shape=(32,32,3)),\n",
        "\n",
        "    tf.keras.layers.Conv2D(filters=64,kernel_size=3,activation='relu', padding='same'), #More filter in the bloc 32->64\n",
        "    tf.keras.layers.BatchNormalization(),\n",
        "    tf.keras.layers.Conv2D(filters=64,kernel_size=3,activation='relu', padding='same'),\n",
        "    tf.keras.layers.BatchNormalization(),\n",
        "    tf.keras.layers.MaxPool2D(pool_size=2),\n",
        "\n",
        "    tf.keras.layers.GlobalAveragePooling2D(),\n",
        "    tf.keras.layers.Dense(units=10),\n",
        "    tf.keras.layers.Activation('softmax', dtype=tf.float32)\n",
        "\n",
        "])\n",
        "\n",
        "model_1.compile(loss=tf.keras.losses.SparseCategoricalCrossentropy(),\n",
        "                optimizer=tf.keras.optimizers.Adam(),\n",
        "                metrics=['accuracy'])\n",
        "\n",
        "history_1=model_1.fit(batch_train,epochs=30,validation_data=batch_val,callbacks=[early_stop,LrReducer,checkpoint])"
      ]
    },
    {
      "cell_type": "code",
      "execution_count": null,
      "metadata": {
        "colab": {
          "base_uri": "https://localhost:8080/"
        },
        "id": "lmRjvrGd9Ecb",
        "outputId": "cfecd9fa-26ad-4c6a-c938-46cdff6238d2"
      },
      "outputs": [],
      "source": [
        "res_1=model_1.evaluate(batch_test) #70%"
      ]
    },
    {
      "cell_type": "code",
      "execution_count": null,
      "metadata": {
        "id": "fYjOAhm4-zYU"
      },
      "outputs": [],
      "source": [
        "df_1 = pd.DataFrame(history_1.history).drop('learning_rate',axis=1)\n",
        "df_1.columns=['accuracy_1','loss_1','val_accuracy_1','val_loss_1']\n",
        "df_1_acc=df_1.loc[:,['accuracy_1','val_accuracy_1']]\n",
        "df_1_loss=df_1.loc[:,['loss_1','val_loss_1']]"
      ]
    },
    {
      "cell_type": "code",
      "execution_count": null,
      "metadata": {
        "colab": {
          "base_uri": "https://localhost:8080/",
          "height": 860
        },
        "id": "Qa1GD9lc-3AF",
        "outputId": "99b8a62e-217e-4d2d-e641-9a4658ee85e9"
      },
      "outputs": [],
      "source": [
        "pd.concat([df_0_acc,df_1_acc],axis=1).plot()\n",
        "pd.concat([df_0_loss,df_1_loss],axis=1).plot()"
      ]
    },
    {
      "cell_type": "markdown",
      "metadata": {
        "id": "OBb-F-Qf_BRH"
      },
      "source": [
        "64 filters is better than 32 filters, converge faster and better accuracy."
      ]
    },
    {
      "cell_type": "code",
      "execution_count": null,
      "metadata": {
        "id": "2AtuVmmyv8EF"
      },
      "outputs": [],
      "source": [
        "model_1.save('model_1.keras')\n",
        "\n",
        "with open('history_1', 'wb') as f:\n",
        "    pickle.dump(history_1.history, f)"
      ]
    },
    {
      "cell_type": "markdown",
      "metadata": {
        "id": "aPECrPRIxMiZ"
      },
      "source": [
        "#### Model 2 : 2 Blocs 32->64 filters"
      ]
    },
    {
      "cell_type": "code",
      "execution_count": null,
      "metadata": {
        "colab": {
          "base_uri": "https://localhost:8080/"
        },
        "id": "7QRxpQ83uUkL",
        "outputId": "ad3c97da-b138-4f7f-bde5-58c30da3eee0"
      },
      "outputs": [],
      "source": [
        "tf.random.set_seed(42)\n",
        "random.seed(42)\n",
        "\n",
        "model_2=tf.keras.Sequential([\n",
        "    tf.keras.layers.Input(shape=(32,32,3)),\n",
        "\n",
        "    tf.keras.layers.Conv2D(filters=32,kernel_size=3,activation='relu', padding='same'),\n",
        "    tf.keras.layers.BatchNormalization(),\n",
        "    tf.keras.layers.Conv2D(filters=32,kernel_size=3,activation='relu', padding='same'),\n",
        "    tf.keras.layers.BatchNormalization(),\n",
        "    tf.keras.layers.MaxPool2D(pool_size=2),\n",
        "\n",
        "\n",
        "    tf.keras.layers.Conv2D(filters=64,kernel_size=3,activation='relu', padding='same'), #Another bloc\n",
        "    tf.keras.layers.BatchNormalization(),\n",
        "    tf.keras.layers.Conv2D(filters=64,kernel_size=3,activation='relu', padding='same'),\n",
        "    tf.keras.layers.BatchNormalization(),\n",
        "    tf.keras.layers.MaxPool2D(pool_size=2),\n",
        "\n",
        "    tf.keras.layers.GlobalAveragePooling2D(),\n",
        "    tf.keras.layers.Dense(units=10),\n",
        "    tf.keras.layers.Activation('softmax', dtype=tf.float32)\n",
        "\n",
        "])\n",
        "\n",
        "model_2.compile(loss=tf.keras.losses.SparseCategoricalCrossentropy(),\n",
        "                optimizer=tf.keras.optimizers.Adam(),\n",
        "                metrics=['accuracy'])\n",
        "\n",
        "history_2=model_2.fit(batch_train,epochs=30,validation_data=batch_val,callbacks=[early_stop,LrReducer,checkpoint])"
      ]
    },
    {
      "cell_type": "code",
      "execution_count": null,
      "metadata": {
        "colab": {
          "base_uri": "https://localhost:8080/"
        },
        "id": "2mHQHPXg_JGo",
        "outputId": "3bbb74e9-562c-47e1-a272-e182c83a7259"
      },
      "outputs": [],
      "source": [
        "res_2=model_2.evaluate(batch_test) # 81%"
      ]
    },
    {
      "cell_type": "code",
      "execution_count": null,
      "metadata": {
        "id": "5Amrk6Xh_Lyu"
      },
      "outputs": [],
      "source": [
        "df_2 = pd.DataFrame(history_2.history).drop('learning_rate',axis=1)\n",
        "df_2.columns=['accuracy_2','loss_2','val_accuracy_2','val_loss_2']\n",
        "df_2_acc=df_2.loc[:,['accuracy_2','val_accuracy_2']]\n",
        "df_2_loss=df_2.loc[:,['loss_2','val_loss_2']]"
      ]
    },
    {
      "cell_type": "code",
      "execution_count": null,
      "metadata": {
        "colab": {
          "base_uri": "https://localhost:8080/",
          "height": 860
        },
        "id": "mUHUfx-e_OEQ",
        "outputId": "de4cd613-c04a-440d-99ff-ed275c04f725"
      },
      "outputs": [],
      "source": [
        "pd.concat([df_0_acc,df_1_acc,df_2_acc],axis=1).plot()\n",
        "pd.concat([df_0_loss,df_1_loss,df_2_loss],axis=1).plot()"
      ]
    },
    {
      "cell_type": "code",
      "execution_count": null,
      "metadata": {
        "id": "9bZ_rPXGwDxW"
      },
      "outputs": [],
      "source": [
        "model_2.save('model_2.keras')\n",
        "\n",
        "with open('history_2', 'wb') as f:\n",
        "    pickle.dump(history_2.history, f)"
      ]
    },
    {
      "cell_type": "markdown",
      "metadata": {
        "id": "kgYtKlV_xPZX"
      },
      "source": [
        "#### Model 3 : 3 Blocs 32->64->128 filters"
      ]
    },
    {
      "cell_type": "code",
      "execution_count": null,
      "metadata": {
        "colab": {
          "base_uri": "https://localhost:8080/"
        },
        "id": "OeGfEwb-to9S",
        "outputId": "23957275-656e-4273-94f9-b8660fb76c82"
      },
      "outputs": [],
      "source": [
        "tf.random.set_seed(42)\n",
        "random.seed(42)\n",
        "\n",
        "model_3=tf.keras.Sequential([\n",
        "    tf.keras.layers.Input(shape=(32,32,3)),\n",
        "\n",
        "    tf.keras.layers.Conv2D(filters=32,kernel_size=3,activation='relu', padding='same'),\n",
        "    tf.keras.layers.BatchNormalization(),\n",
        "    tf.keras.layers.Conv2D(filters=32,kernel_size=3,activation='relu', padding='same'),\n",
        "    tf.keras.layers.BatchNormalization(),\n",
        "    tf.keras.layers.MaxPool2D(pool_size=2),\n",
        "\n",
        "    tf.keras.layers.Conv2D(filters=64,kernel_size=3,activation='relu', padding='same'),\n",
        "    tf.keras.layers.BatchNormalization(),\n",
        "    tf.keras.layers.Conv2D(filters=64,kernel_size=3,activation='relu', padding='same'),\n",
        "    tf.keras.layers.BatchNormalization(),\n",
        "    tf.keras.layers.MaxPool2D(pool_size=2),\n",
        "\n",
        "    tf.keras.layers.Conv2D(filters=128,kernel_size=3,activation='relu', padding='same'), # Add another bloc\n",
        "    tf.keras.layers.BatchNormalization(),\n",
        "    tf.keras.layers.Conv2D(filters=128,kernel_size=3,activation='relu', padding='same'),\n",
        "    tf.keras.layers.BatchNormalization(),\n",
        "    tf.keras.layers.MaxPool2D(pool_size=2),\n",
        "\n",
        "    tf.keras.layers.GlobalAveragePooling2D(),\n",
        "\n",
        "    tf.keras.layers.Dense(units=10),\n",
        "    tf.keras.layers.Activation('softmax', dtype=tf.float32)\n",
        "])\n",
        "\n",
        "model_3.compile(loss=tf.keras.losses.SparseCategoricalCrossentropy(),\n",
        "                optimizer=tf.keras.optimizers.Adam(),\n",
        "                metrics=['accuracy'])\n",
        "\n",
        "history_3=model_3.fit(batch_train,epochs=30,validation_data=batch_val,callbacks=[early_stop,LrReducer,checkpoint])"
      ]
    },
    {
      "cell_type": "code",
      "execution_count": null,
      "metadata": {
        "colab": {
          "base_uri": "https://localhost:8080/"
        },
        "id": "InP6TtVABAjX",
        "outputId": "e2629d70-4037-4619-d87a-3b2ce75b5ab3"
      },
      "outputs": [],
      "source": [
        "res_3=model_3.evaluate(batch_test) # 85%"
      ]
    },
    {
      "cell_type": "code",
      "execution_count": null,
      "metadata": {
        "id": "sd623KVoBAd1"
      },
      "outputs": [],
      "source": [
        "df_3 = pd.DataFrame(history_3.history).drop('learning_rate',axis=1)\n",
        "df_3.columns=['accuracy_3','loss_3','val_accuracy_3','val_loss_3']\n",
        "df_3_acc=df_3.loc[:,['accuracy_3','val_accuracy_3']]\n",
        "df_3_loss=df_3.loc[:,['loss_3','val_loss_3']]"
      ]
    },
    {
      "cell_type": "code",
      "execution_count": null,
      "metadata": {
        "colab": {
          "base_uri": "https://localhost:8080/",
          "height": 860
        },
        "id": "2JNVPCbyBAUq",
        "outputId": "c8970f9f-bed0-415a-d89c-53efa5e3a6d7"
      },
      "outputs": [],
      "source": [
        "pd.concat([df_0_acc,df_1_acc,df_2_acc,df_3_acc],axis=1).plot()\n",
        "pd.concat([df_0_loss,df_1_loss,df_2_loss,df_3_loss],axis=1).plot()"
      ]
    },
    {
      "cell_type": "markdown",
      "metadata": {
        "id": "m6uErcYXx0o-"
      },
      "source": [
        "Model start to overfit, i'll try to add dropout after convolution to see if it helps. I can stop following model 0 and 1."
      ]
    },
    {
      "cell_type": "code",
      "execution_count": null,
      "metadata": {
        "id": "6rAgJ2Qmy5mt"
      },
      "outputs": [],
      "source": [
        "model_3.save('model_3.keras')\n",
        "\n",
        "with open('history_3', 'wb') as f:\n",
        "    pickle.dump(history_3.history, f)"
      ]
    },
    {
      "cell_type": "markdown",
      "metadata": {
        "id": "UDVi4tY1yBj6"
      },
      "source": [
        "#### Model 4 : 3 blocs and dropout (best model in the end)"
      ]
    },
    {
      "cell_type": "code",
      "execution_count": null,
      "metadata": {
        "colab": {
          "base_uri": "https://localhost:8080/",
          "height": 356
        },
        "id": "Owm-av--yCBC",
        "outputId": "33925d02-a2ac-4855-a64e-ee77c03c25af"
      },
      "outputs": [],
      "source": [
        "tf.random.set_seed(42)\n",
        "random.seed(42)\n",
        "\n",
        "model_4=tf.keras.Sequential([\n",
        "    tf.keras.layers.Input(shape=(32,32,3)),\n",
        "\n",
        "    tf.keras.layers.Conv2D(filters=32,kernel_size=3,activation='relu', padding='same'),\n",
        "    tf.keras.layers.BatchNormalization(),\n",
        "    tf.keras.layers.Conv2D(filters=32,kernel_size=3,activation='relu', padding='same'),\n",
        "    tf.keras.layers.BatchNormalization(),\n",
        "    tf.keras.layers.MaxPool2D(pool_size=2),\n",
        "    tf.keras.layers.Dropout(0.2),\n",
        "\n",
        "    tf.keras.layers.Conv2D(filters=64,kernel_size=3,activation='relu', padding='same'),\n",
        "    tf.keras.layers.BatchNormalization(),\n",
        "    tf.keras.layers.Conv2D(filters=64,kernel_size=3,activation='relu', padding='same'),\n",
        "    tf.keras.layers.BatchNormalization(),\n",
        "    tf.keras.layers.MaxPool2D(pool_size=2),\n",
        "    tf.keras.layers.Dropout(0.2),\n",
        "\n",
        "    tf.keras.layers.Conv2D(filters=128,kernel_size=3,activation='relu', padding='same'), # Add another bloc\n",
        "    tf.keras.layers.BatchNormalization(),\n",
        "    tf.keras.layers.Conv2D(filters=128,kernel_size=3,activation='relu', padding='same'),\n",
        "    tf.keras.layers.BatchNormalization(),\n",
        "    tf.keras.layers.MaxPool2D(pool_size=2),\n",
        "    tf.keras.layers.Dropout(0.2),\n",
        "\n",
        "    tf.keras.layers.GlobalAveragePooling2D(),\n",
        "\n",
        "    tf.keras.layers.Dense(units=10),\n",
        "    tf.keras.layers.Activation('softmax', dtype=tf.float32)\n",
        "])\n",
        "\n",
        "model_4.compile(loss=tf.keras.losses.SparseCategoricalCrossentropy(),\n",
        "                optimizer=tf.keras.optimizers.Adam(),\n",
        "                metrics=['accuracy'])\n",
        "\n",
        "history_4=model_4.fit(batch_train,epochs=30,validation_data=batch_val,callbacks=[early_stop,LrReducer,checkpoint])"
      ]
    },
    {
      "cell_type": "code",
      "execution_count": null,
      "metadata": {
        "colab": {
          "base_uri": "https://localhost:8080/"
        },
        "id": "4_Zc0ar7yB-m",
        "outputId": "fee386a6-388d-4480-f2f8-2ec12c0a3226"
      },
      "outputs": [],
      "source": [
        "res_4=model_4.evaluate(batch_test) # 87%"
      ]
    },
    {
      "cell_type": "code",
      "execution_count": null,
      "metadata": {
        "id": "plyHk0TYyB8O"
      },
      "outputs": [],
      "source": [
        "df_4 = pd.DataFrame(history_4.history).drop('learning_rate',axis=1)\n",
        "df_4.columns=['accuracy_4','loss_4','val_accuracy_4','val_loss_4']\n",
        "df_4_acc=df_4.loc[:,['accuracy_4','val_accuracy_4']]\n",
        "df_4_loss=df_4.loc[:,['loss_4','val_loss_4']]"
      ]
    },
    {
      "cell_type": "code",
      "execution_count": null,
      "metadata": {
        "colab": {
          "base_uri": "https://localhost:8080/",
          "height": 862
        },
        "id": "UWzf6wjSyB5i",
        "outputId": "ab433b3f-495f-463c-fb90-4e217406233b"
      },
      "outputs": [],
      "source": [
        "pd.concat([df_2_acc,df_3_acc,df_4_acc],axis=1).plot()\n",
        "pd.concat([df_2_loss,df_3_loss,df_4_loss],axis=1).plot()"
      ]
    },
    {
      "cell_type": "code",
      "execution_count": null,
      "metadata": {
        "id": "5SioKH59yB27"
      },
      "outputs": [],
      "source": [
        "model_4.save('model_4.keras')\n",
        "\n",
        "with open('history_4', 'wb') as f:\n",
        "    pickle.dump(history_4.history, f)"
      ]
    },
    {
      "cell_type": "markdown",
      "metadata": {
        "id": "HKBOZdBT1Nih"
      },
      "source": [
        "Model 4 is a bit better in validation and with less overfitting here it seems."
      ]
    },
    {
      "cell_type": "markdown",
      "metadata": {
        "id": "kUIo0Omb0x3r"
      },
      "source": [
        "#### Model 5 : Dropout after the GlobalAveragePooling"
      ]
    },
    {
      "cell_type": "code",
      "execution_count": null,
      "metadata": {
        "colab": {
          "base_uri": "https://localhost:8080/"
        },
        "id": "prFQhETc0x1F",
        "outputId": "d3179873-d471-4e6b-e13b-2e5129c6a595"
      },
      "outputs": [],
      "source": [
        "tf.random.set_seed(42)\n",
        "random.seed(42)\n",
        "\n",
        "model_5=tf.keras.Sequential([\n",
        "    tf.keras.layers.Input(shape=(32,32,3)),\n",
        "\n",
        "    tf.keras.layers.Conv2D(filters=32,kernel_size=3,activation='relu', padding='same'),\n",
        "    tf.keras.layers.BatchNormalization(),\n",
        "    tf.keras.layers.Conv2D(filters=32,kernel_size=3,activation='relu', padding='same'),\n",
        "    tf.keras.layers.BatchNormalization(),\n",
        "    tf.keras.layers.MaxPool2D(pool_size=2),\n",
        "\n",
        "    tf.keras.layers.Conv2D(filters=64,kernel_size=3,activation='relu', padding='same'),\n",
        "    tf.keras.layers.BatchNormalization(),\n",
        "    tf.keras.layers.Conv2D(filters=64,kernel_size=3,activation='relu', padding='same'),\n",
        "    tf.keras.layers.BatchNormalization(),\n",
        "    tf.keras.layers.MaxPool2D(pool_size=2),\n",
        "\n",
        "    tf.keras.layers.Conv2D(filters=128,kernel_size=3,activation='relu', padding='same'), # Add another bloc\n",
        "    tf.keras.layers.BatchNormalization(),\n",
        "    tf.keras.layers.Conv2D(filters=128,kernel_size=3,activation='relu', padding='same'),\n",
        "    tf.keras.layers.BatchNormalization(),\n",
        "    tf.keras.layers.MaxPool2D(pool_size=2),\n",
        "\n",
        "    tf.keras.layers.GlobalAveragePooling2D(),\n",
        "    tf.keras.layers.Dropout(0.3),\n",
        "\n",
        "    tf.keras.layers.Dense(units=10),\n",
        "    tf.keras.layers.Activation('softmax', dtype=tf.float32)\n",
        "])\n",
        "\n",
        "model_5.compile(loss=tf.keras.losses.SparseCategoricalCrossentropy(),\n",
        "                optimizer=tf.keras.optimizers.Adam(),\n",
        "                metrics=['accuracy'])\n",
        "\n",
        "history_5=model_5.fit(batch_train,epochs=30,validation_data=batch_val,callbacks=[early_stop,LrReducer,checkpoint])"
      ]
    },
    {
      "cell_type": "code",
      "execution_count": null,
      "metadata": {
        "colab": {
          "base_uri": "https://localhost:8080/"
        },
        "id": "ljvyXPo00xyC",
        "outputId": "91f062ba-dd79-4a4b-b3f9-073bb16d9c35"
      },
      "outputs": [],
      "source": [
        "res_5=model_5.evaluate(batch_test) # 85%"
      ]
    },
    {
      "cell_type": "code",
      "execution_count": null,
      "metadata": {
        "id": "cQMGyD960xvT"
      },
      "outputs": [],
      "source": [
        "df_5 = pd.DataFrame(history_5.history).drop('learning_rate',axis=1)\n",
        "df_5.columns=['accuracy_5','loss_5','val_accuracy_5','val_loss_5']\n",
        "df_5_acc=df_5.loc[:,['accuracy_5','val_accuracy_5']]\n",
        "df_5_loss=df_5.loc[:,['loss_5','val_loss_5']]"
      ]
    },
    {
      "cell_type": "code",
      "execution_count": null,
      "metadata": {
        "colab": {
          "base_uri": "https://localhost:8080/",
          "height": 862
        },
        "id": "7LLgd9nu0xsU",
        "outputId": "950f7fe9-167f-4c17-bcb8-8006ea911930"
      },
      "outputs": [],
      "source": [
        "pd.concat([df_2_acc,df_3_acc,df_4_acc,df_5_acc],axis=1).plot()\n",
        "pd.concat([df_2_loss,df_3_loss,df_4_loss,df_5_loss],axis=1).plot()"
      ]
    },
    {
      "cell_type": "code",
      "execution_count": null,
      "metadata": {
        "id": "UPA84-wE0xkR"
      },
      "outputs": [],
      "source": [
        "# model_5.save('model_5.keras')\n",
        "\n",
        "# with open('history_5', 'wb') as f:\n",
        "#     pickle.dump(history_5.history, f)"
      ]
    },
    {
      "cell_type": "markdown",
      "metadata": {
        "id": "iW3Xqlgq0xcT"
      },
      "source": [
        "Model 4 is better. Let's try to get better acc on model 4."
      ]
    },
    {
      "cell_type": "markdown",
      "metadata": {
        "id": "diFtYH-h17sI"
      },
      "source": [
        "#### Model 6 : model 4 with a better classifier"
      ]
    },
    {
      "cell_type": "code",
      "execution_count": null,
      "metadata": {
        "colab": {
          "base_uri": "https://localhost:8080/"
        },
        "id": "Wid4fhh02AfZ",
        "outputId": "b98b8682-7726-4de8-e6a1-5c8066339195"
      },
      "outputs": [],
      "source": [
        "tf.random.set_seed(42)\n",
        "random.seed(42)\n",
        "\n",
        "model_6=tf.keras.Sequential([\n",
        "    tf.keras.layers.Input(shape=(32,32,3)),\n",
        "\n",
        "    tf.keras.layers.Conv2D(filters=32,kernel_size=3,activation='relu', padding='same'),\n",
        "    tf.keras.layers.BatchNormalization(),\n",
        "    tf.keras.layers.Conv2D(filters=32,kernel_size=3,activation='relu', padding='same'),\n",
        "    tf.keras.layers.BatchNormalization(),\n",
        "    tf.keras.layers.MaxPool2D(pool_size=2),\n",
        "    tf.keras.layers.Dropout(0.2),\n",
        "\n",
        "    tf.keras.layers.Conv2D(filters=64,kernel_size=3,activation='relu', padding='same'),\n",
        "    tf.keras.layers.BatchNormalization(),\n",
        "    tf.keras.layers.Conv2D(filters=64,kernel_size=3,activation='relu', padding='same'),\n",
        "    tf.keras.layers.BatchNormalization(),\n",
        "    tf.keras.layers.MaxPool2D(pool_size=2),\n",
        "    tf.keras.layers.Dropout(0.2),\n",
        "\n",
        "    tf.keras.layers.Conv2D(filters=128,kernel_size=3,activation='relu', padding='same'), # Add another bloc\n",
        "    tf.keras.layers.BatchNormalization(),\n",
        "    tf.keras.layers.Conv2D(filters=128,kernel_size=3,activation='relu', padding='same'),\n",
        "    tf.keras.layers.BatchNormalization(),\n",
        "    tf.keras.layers.MaxPool2D(pool_size=2),\n",
        "    tf.keras.layers.Dropout(0.2),\n",
        "\n",
        "    tf.keras.layers.GlobalAveragePooling2D(),\n",
        "\n",
        "    tf.keras.layers.Dense(units=256,activation='relu'),\n",
        "    tf.keras.layers.BatchNormalization(),\n",
        "    tf.keras.layers.Dropout(0.3),\n",
        "    tf.keras.layers.Dense(units=128,activation='relu'),\n",
        "    tf.keras.layers.BatchNormalization(),\n",
        "    tf.keras.layers.Dropout(0.3),\n",
        "    tf.keras.layers.Dense(units=10),\n",
        "    tf.keras.layers.Activation('softmax', dtype=tf.float32)\n",
        "])\n",
        "\n",
        "model_6.compile(loss=tf.keras.losses.SparseCategoricalCrossentropy(),\n",
        "                optimizer=tf.keras.optimizers.Adam(),\n",
        "                metrics=['accuracy'])\n",
        "\n",
        "history_6=model_6.fit(batch_train,epochs=30,validation_data=batch_val,callbacks=[early_stop,LrReducer,checkpoint])"
      ]
    },
    {
      "cell_type": "code",
      "execution_count": null,
      "metadata": {
        "colab": {
          "base_uri": "https://localhost:8080/"
        },
        "id": "ZgkOceWM2Ade",
        "outputId": "0a82ea4f-0006-42dd-a3c4-1712585f9ef8"
      },
      "outputs": [],
      "source": [
        "res_6=model_6.evaluate(batch_test) # 86%"
      ]
    },
    {
      "cell_type": "code",
      "execution_count": null,
      "metadata": {
        "id": "IQ9cbULO2AbH"
      },
      "outputs": [],
      "source": [
        "df_6 = pd.DataFrame(history_6.history).drop('learning_rate',axis=1)\n",
        "df_6.columns=['accuracy_6','loss_6','val_accuracy_6','val_loss_6']\n",
        "df_6_acc=df_6.loc[:,['accuracy_6','val_accuracy_6']]\n",
        "df_6_loss=df_6.loc[:,['loss_6','val_loss_6']]"
      ]
    },
    {
      "cell_type": "code",
      "execution_count": null,
      "metadata": {
        "colab": {
          "base_uri": "https://localhost:8080/",
          "height": 860
        },
        "id": "zPKqxYK-t8Lf",
        "outputId": "4d30b137-7cc8-4632-f8ae-96c0e0107077"
      },
      "outputs": [],
      "source": [
        "pd.concat([df_2_acc,df_4_acc,df_6_acc],axis=1).plot()\n",
        "pd.concat([df_2_loss,df_4_loss,df_6_loss],axis=1).plot()"
      ]
    },
    {
      "cell_type": "code",
      "execution_count": null,
      "metadata": {
        "id": "zzwbWGRDt8Iw"
      },
      "outputs": [],
      "source": [
        "# model_6.save('model_6.keras')\n",
        "\n",
        "# with open('history_6', 'wb') as f:\n",
        "#     pickle.dump(history_6.history, f)"
      ]
    },
    {
      "cell_type": "markdown",
      "metadata": {
        "id": "L8Giod03t8F8"
      },
      "source": [
        "Very close to model 4, let's try to add a bloc of convolution to model 6 (as it overfit a bit less than model 4)"
      ]
    },
    {
      "cell_type": "markdown",
      "metadata": {
        "id": "xnkyCeoM4jwO"
      },
      "source": [
        "#### Model 7 : Model 6 + 1 blocs"
      ]
    },
    {
      "cell_type": "code",
      "execution_count": null,
      "metadata": {
        "colab": {
          "base_uri": "https://localhost:8080/"
        },
        "id": "k-e4SExH4l_T",
        "outputId": "af3810d6-7a98-42c0-f011-cdca1c1b6388"
      },
      "outputs": [],
      "source": [
        "tf.random.set_seed(42)\n",
        "random.seed(42)\n",
        "\n",
        "model_7=tf.keras.Sequential([\n",
        "    tf.keras.layers.Input(shape=(32,32,3)),\n",
        "\n",
        "    tf.keras.layers.Conv2D(filters=32,kernel_size=3,activation='relu', padding='same'),\n",
        "    tf.keras.layers.BatchNormalization(),\n",
        "    tf.keras.layers.Conv2D(filters=32,kernel_size=3,activation='relu', padding='same'),\n",
        "    tf.keras.layers.BatchNormalization(),\n",
        "    tf.keras.layers.MaxPool2D(pool_size=2),\n",
        "    tf.keras.layers.Dropout(0.2),\n",
        "\n",
        "    tf.keras.layers.Conv2D(filters=64,kernel_size=3,activation='relu', padding='same'),\n",
        "    tf.keras.layers.BatchNormalization(),\n",
        "    tf.keras.layers.Conv2D(filters=64,kernel_size=3,activation='relu', padding='same'),\n",
        "    tf.keras.layers.BatchNormalization(),\n",
        "    tf.keras.layers.MaxPool2D(pool_size=2),\n",
        "    tf.keras.layers.Dropout(0.2),\n",
        "\n",
        "    tf.keras.layers.Conv2D(filters=128,kernel_size=3,activation='relu', padding='same'), # Add another bloc\n",
        "    tf.keras.layers.BatchNormalization(),\n",
        "    tf.keras.layers.Conv2D(filters=128,kernel_size=3,activation='relu', padding='same'),\n",
        "    tf.keras.layers.BatchNormalization(),\n",
        "    tf.keras.layers.MaxPool2D(pool_size=2),\n",
        "    tf.keras.layers.Dropout(0.2),\n",
        "\n",
        "    tf.keras.layers.Conv2D(filters=256,kernel_size=3,activation='relu', padding='same'), # Add another bloc\n",
        "    tf.keras.layers.BatchNormalization(),\n",
        "    tf.keras.layers.Conv2D(filters=256,kernel_size=3,activation='relu', padding='same'),\n",
        "    tf.keras.layers.BatchNormalization(),\n",
        "    tf.keras.layers.MaxPool2D(pool_size=2),\n",
        "    tf.keras.layers.Dropout(0.2),\n",
        "\n",
        "    tf.keras.layers.GlobalAveragePooling2D(),\n",
        "\n",
        "    tf.keras.layers.Dense(units=256,activation='relu'),\n",
        "    tf.keras.layers.BatchNormalization(),\n",
        "    tf.keras.layers.Dropout(0.3),\n",
        "    tf.keras.layers.Dense(units=128,activation='relu'),\n",
        "    tf.keras.layers.BatchNormalization(),\n",
        "    tf.keras.layers.Dropout(0.3),\n",
        "    tf.keras.layers.Dense(units=10),\n",
        "    tf.keras.layers.Activation('softmax', dtype=tf.float32)\n",
        "])\n",
        "\n",
        "model_7.compile(loss=tf.keras.losses.SparseCategoricalCrossentropy(),\n",
        "                optimizer=tf.keras.optimizers.Adam(),\n",
        "                metrics=['accuracy'])\n",
        "\n",
        "history_7=model_7.fit(batch_train,epochs=30,validation_data=batch_val,callbacks=[early_stop,LrReducer,checkpoint])"
      ]
    },
    {
      "cell_type": "code",
      "execution_count": null,
      "metadata": {
        "colab": {
          "base_uri": "https://localhost:8080/"
        },
        "id": "QK60Yeim4rBP",
        "outputId": "a9d66ee6-8a62-423b-e793-d0ca6fdb1124"
      },
      "outputs": [],
      "source": [
        "res_7=model_7.evaluate(batch_test) # 87%"
      ]
    },
    {
      "cell_type": "code",
      "execution_count": null,
      "metadata": {
        "id": "U4qrsU-94q-p"
      },
      "outputs": [],
      "source": [
        "df_7=pd.DataFrame(history_7.history).drop('learning_rate',axis=1)\n",
        "df_7.columns=['accuracy_7','loss_7','val_accuracy_7','val_loss_7']\n",
        "df_7_acc=df_7.loc[:,['accuracy_7','val_accuracy_7']]\n",
        "df_7_loss=df_7.loc[:,['loss_7','val_loss_7']]"
      ]
    },
    {
      "cell_type": "code",
      "execution_count": null,
      "metadata": {
        "colab": {
          "base_uri": "https://localhost:8080/",
          "height": 860
        },
        "id": "9-ln3Gix4q78",
        "outputId": "818459b7-cb3e-442b-f65c-932f73d8942c"
      },
      "outputs": [],
      "source": [
        "pd.concat([df_2_acc,df_4_acc,df_6_acc,df_7_acc],axis=1).plot()\n",
        "pd.concat([df_2_loss,df_4_loss,df_6_loss,df_7_loss],axis=1).plot()"
      ]
    },
    {
      "cell_type": "code",
      "execution_count": null,
      "metadata": {
        "id": "wvTq-6bn4q5e"
      },
      "outputs": [],
      "source": [
        "# model_7.save('model_7.keras')\n",
        "\n",
        "# with open('history_7', 'wb') as f:\n",
        "#     pickle.dump(history_7.history, f)"
      ]
    },
    {
      "cell_type": "markdown",
      "metadata": {
        "id": "b6CT-UkN4q2t"
      },
      "source": [
        "Once again very close to model 4. Let's try AdamW with the weight decay maybe to help with the overfitting and the learning."
      ]
    },
    {
      "cell_type": "markdown",
      "metadata": {
        "id": "nrpcyWYq4qz-"
      },
      "source": [
        "#### Model 8 : AdamW decay = 5e-3 (relatively big architecture)"
      ]
    },
    {
      "cell_type": "code",
      "execution_count": null,
      "metadata": {
        "colab": {
          "base_uri": "https://localhost:8080/"
        },
        "id": "K3WTB-6A6ToI",
        "outputId": "88f618fa-5103-41ae-ab49-f3c763c0f9e0"
      },
      "outputs": [],
      "source": [
        "tf.random.set_seed(42)\n",
        "random.seed(42)\n",
        "\n",
        "model_8=tf.keras.Sequential([\n",
        "    tf.keras.layers.Input(shape=(32,32,3)),\n",
        "\n",
        "    tf.keras.layers.Conv2D(filters=32,kernel_size=3,activation='relu', padding='same'),\n",
        "    tf.keras.layers.BatchNormalization(),\n",
        "    tf.keras.layers.Conv2D(filters=32,kernel_size=3,activation='relu', padding='same'),\n",
        "    tf.keras.layers.BatchNormalization(),\n",
        "    tf.keras.layers.MaxPool2D(pool_size=2),\n",
        "    tf.keras.layers.Dropout(0.2),\n",
        "\n",
        "    tf.keras.layers.Conv2D(filters=64,kernel_size=3,activation='relu', padding='same'),\n",
        "    tf.keras.layers.BatchNormalization(),\n",
        "    tf.keras.layers.Conv2D(filters=64,kernel_size=3,activation='relu', padding='same'),\n",
        "    tf.keras.layers.BatchNormalization(),\n",
        "    tf.keras.layers.MaxPool2D(pool_size=2),\n",
        "    tf.keras.layers.Dropout(0.2),\n",
        "\n",
        "    tf.keras.layers.Conv2D(filters=128,kernel_size=3,activation='relu', padding='same'), # Add another bloc\n",
        "    tf.keras.layers.BatchNormalization(),\n",
        "    tf.keras.layers.Conv2D(filters=128,kernel_size=3,activation='relu', padding='same'),\n",
        "    tf.keras.layers.BatchNormalization(),\n",
        "    tf.keras.layers.MaxPool2D(pool_size=2),\n",
        "    tf.keras.layers.Dropout(0.2),\n",
        "\n",
        "    tf.keras.layers.Conv2D(filters=256,kernel_size=3,activation='relu', padding='same'), # Add another bloc\n",
        "    tf.keras.layers.BatchNormalization(),\n",
        "    tf.keras.layers.Conv2D(filters=256,kernel_size=3,activation='relu', padding='same'),\n",
        "    tf.keras.layers.BatchNormalization(),\n",
        "    tf.keras.layers.MaxPool2D(pool_size=2),\n",
        "    tf.keras.layers.Dropout(0.2),\n",
        "\n",
        "    tf.keras.layers.GlobalAveragePooling2D(),\n",
        "\n",
        "    tf.keras.layers.Dense(units=256,activation='relu'),\n",
        "    tf.keras.layers.BatchNormalization(),\n",
        "    tf.keras.layers.Dropout(0.3),\n",
        "    tf.keras.layers.Dense(units=128,activation='relu'),\n",
        "    tf.keras.layers.BatchNormalization(),\n",
        "    tf.keras.layers.Dropout(0.3),\n",
        "    tf.keras.layers.Dense(units=10),\n",
        "    tf.keras.layers.Activation('softmax', dtype=tf.float32)\n",
        "])\n",
        "\n",
        "model_8.compile(loss=tf.keras.losses.SparseCategoricalCrossentropy(),\n",
        "                optimizer=tf.keras.optimizers.AdamW(weight_decay=0.005),\n",
        "                metrics=['accuracy'])\n",
        "\n",
        "history_8=model_8.fit(batch_train,epochs=30,validation_data=batch_val,callbacks=[early_stop,LrReducer,checkpoint])"
      ]
    },
    {
      "cell_type": "code",
      "execution_count": null,
      "metadata": {
        "colab": {
          "base_uri": "https://localhost:8080/"
        },
        "id": "xwFT2EaF6ceJ",
        "outputId": "c63f7bdf-3e43-4252-bc3d-e930ea0ce147"
      },
      "outputs": [],
      "source": [
        "res_8=model_8.evaluate(batch_test) # 87%"
      ]
    },
    {
      "cell_type": "code",
      "execution_count": null,
      "metadata": {
        "id": "YXTmj7pD6cby"
      },
      "outputs": [],
      "source": [
        "df_8=pd.DataFrame(history_8.history).drop('learning_rate',axis=1)\n",
        "df_8.columns=['accuracy_8','loss_8','val_accuracy_8','val_loss_8']\n",
        "df_8_acc=df_8.loc[:,['accuracy_8','val_accuracy_8']]\n",
        "df_8_loss=df_8.loc[:,['loss_8','val_loss_8']]"
      ]
    },
    {
      "cell_type": "code",
      "execution_count": null,
      "metadata": {
        "colab": {
          "base_uri": "https://localhost:8080/",
          "height": 860
        },
        "id": "Zb-uHaIs6cY-",
        "outputId": "01e3d4d3-0db7-4e12-f97f-9ebe28520181"
      },
      "outputs": [],
      "source": [
        "pd.concat([df_2_acc,df_4_acc,df_6_acc,df_7_acc,df_8_acc],axis=1).plot()\n",
        "pd.concat([df_2_loss,df_4_loss,df_6_loss,df_7_loss,df_8_loss],axis=1).plot()"
      ]
    },
    {
      "cell_type": "code",
      "execution_count": null,
      "metadata": {
        "id": "wpedsvZS6cWH"
      },
      "outputs": [],
      "source": [
        "# model_8.save('model_8.keras')\n",
        "\n",
        "# with open('history_8', 'wb') as f:\n",
        "#     pickle.dump(history_8.history, f)"
      ]
    },
    {
      "cell_type": "markdown",
      "metadata": {
        "id": "kUV2lT8d7FaC"
      },
      "source": [
        "Looks like i'm stuck in the performance of my model, let's try a last one with many differences to see if i just don't push enough or if it's really the max i can do."
      ]
    },
    {
      "cell_type": "markdown",
      "metadata": {
        "id": "89gBtssY7U_z"
      },
      "source": [
        "#### Model 9 : ALL IN"
      ]
    },
    {
      "cell_type": "code",
      "execution_count": null,
      "metadata": {
        "colab": {
          "base_uri": "https://localhost:8080/"
        },
        "id": "mtPAtgIj7XQi",
        "outputId": "4acd131a-fae6-4219-da1a-5a54b1016bce"
      },
      "outputs": [],
      "source": [
        "tf.random.set_seed(42)\n",
        "random.seed(42)\n",
        "\n",
        "model_9=tf.keras.Sequential([\n",
        "    tf.keras.layers.Input(shape=(32,32,3)),\n",
        "\n",
        "    tf.keras.layers.Conv2D(filters=32,kernel_size=3,activation='relu',padding='same'),\n",
        "    tf.keras.layers.BatchNormalization(),\n",
        "    tf.keras.layers.Conv2D(filters=32,kernel_size=3,activation='relu',padding='same'),\n",
        "    tf.keras.layers.BatchNormalization(),\n",
        "    tf.keras.layers.MaxPool2D(pool_size=2),\n",
        "    tf.keras.layers.Dropout(0.2),\n",
        "\n",
        "    tf.keras.layers.Conv2D(filters=64,kernel_size=3,activation='relu',padding='same'),\n",
        "    tf.keras.layers.BatchNormalization(),\n",
        "    tf.keras.layers.Conv2D(filters=64,kernel_size=3,activation='relu',padding='same'),\n",
        "    tf.keras.layers.BatchNormalization(),\n",
        "    tf.keras.layers.MaxPool2D(pool_size=2),\n",
        "    tf.keras.layers.Dropout(0.2),\n",
        "\n",
        "    tf.keras.layers.Conv2D(filters=128,kernel_size=3,activation='relu',padding='same'),\n",
        "    tf.keras.layers.BatchNormalization(),\n",
        "    tf.keras.layers.Conv2D(filters=128,kernel_size=3,activation='relu',padding='same'),\n",
        "    tf.keras.layers.BatchNormalization(),\n",
        "    tf.keras.layers.MaxPool2D(pool_size=2),\n",
        "    tf.keras.layers.Dropout(0.3),\n",
        "\n",
        "    tf.keras.layers.Conv2D(filters=256,kernel_size=3,activation='relu',padding='same'), #Un de plus\n",
        "    tf.keras.layers.BatchNormalization(),\n",
        "    tf.keras.layers.Conv2D(filters=256,kernel_size=3,activation='relu',padding='same'),\n",
        "    tf.keras.layers.BatchNormalization(),\n",
        "    tf.keras.layers.MaxPool2D(pool_size=2),\n",
        "    tf.keras.layers.Dropout(0.4),\n",
        "\n",
        "    tf.keras.layers.Conv2D(filters=512,kernel_size=3,activation='relu',padding='same'), #Un de plus\n",
        "    tf.keras.layers.BatchNormalization(),\n",
        "    tf.keras.layers.Conv2D(filters=512,kernel_size=3,activation='relu',padding='same'),\n",
        "    tf.keras.layers.BatchNormalization(),\n",
        "    tf.keras.layers.MaxPool2D(pool_size=2),\n",
        "    tf.keras.layers.Dropout(0.5),\n",
        "\n",
        "    tf.keras.layers.GlobalAveragePooling2D(),\n",
        "\n",
        "    tf.keras.layers.Dense(units=512,activation='relu'),\n",
        "    tf.keras.layers.BatchNormalization(),\n",
        "    tf.keras.layers.Dropout(0.5),\n",
        "    tf.keras.layers.Dense(units=256,activation='relu'),\n",
        "    tf.keras.layers.BatchNormalization(),\n",
        "    tf.keras.layers.Dropout(0.5),\n",
        "    tf.keras.layers.Dense(units=128,activation='relu'),\n",
        "    tf.keras.layers.BatchNormalization(),\n",
        "    tf.keras.layers.Dropout(0.5),\n",
        "    tf.keras.layers.Dense(units=10),\n",
        "    tf.keras.layers.Activation('softmax', dtype=tf.float32)\n",
        "])\n",
        "\n",
        "model_9.compile(loss=tf.keras.losses.SparseCategoricalCrossentropy(),\n",
        "                optimizer=tf.keras.optimizers.Adam(),\n",
        "                metrics=['accuracy'])\n",
        "\n",
        "history_9=model_9.fit(batch_train,epochs=30,validation_data=batch_val,callbacks=[early_stop,LrReducer,checkpoint])"
      ]
    },
    {
      "cell_type": "code",
      "execution_count": null,
      "metadata": {
        "colab": {
          "base_uri": "https://localhost:8080/"
        },
        "id": "bpWsuQl-7gHR",
        "outputId": "3c6710fc-522b-44a2-d3fc-44dbd6fe7c5d"
      },
      "outputs": [],
      "source": [
        "res_9=model_9.evaluate(batch_test)"
      ]
    },
    {
      "cell_type": "code",
      "execution_count": null,
      "metadata": {
        "id": "PPPmqNom77Mp"
      },
      "outputs": [],
      "source": [
        "df_9=pd.DataFrame(history_9.history).drop('learning_rate',axis=1)\n",
        "df_9.columns=['accuracy_9','loss_9','val_accuracy_9','val_loss_9']\n",
        "df_9_acc=df_9.loc[:,['accuracy_9','val_accuracy_9']]\n",
        "df_9_loss=df_9.loc[:,['loss_9','val_loss_9']]"
      ]
    },
    {
      "cell_type": "code",
      "execution_count": null,
      "metadata": {
        "colab": {
          "base_uri": "https://localhost:8080/",
          "height": 860
        },
        "id": "yyzYMViX79KO",
        "outputId": "bc341794-f947-4d13-9f58-43a97b1e749b"
      },
      "outputs": [],
      "source": [
        "pd.concat([df_4_acc,df_6_acc,df_7_acc,df_8_acc,df_9_acc],axis=1).plot()\n",
        "pd.concat([df_4_loss,df_6_loss,df_7_loss,df_8_loss,df_9_loss],axis=1).plot()"
      ]
    },
    {
      "cell_type": "code",
      "execution_count": null,
      "metadata": {
        "id": "Co8usTIo7_E8"
      },
      "outputs": [],
      "source": [
        "# model_9.save('model_9.keras')\n",
        "\n",
        "# with open('history_9', 'wb') as f:\n",
        "#     pickle.dump(history_9.history, f)"
      ]
    },
    {
      "cell_type": "markdown",
      "metadata": {
        "id": "WwqeNalI9xGm"
      },
      "source": [
        "Model 9 is bad compared to the other. Let's stop here"
      ]
    },
    {
      "cell_type": "markdown",
      "metadata": {
        "id": "hK7SYKrY6cTA"
      },
      "source": [
        "## Conclusion :"
      ]
    },
    {
      "cell_type": "code",
      "execution_count": null,
      "metadata": {
        "colab": {
          "base_uri": "https://localhost:8080/",
          "height": 363
        },
        "id": "DD8nKDBH-YDZ",
        "outputId": "f7754edf-ae7b-4dfb-954a-872911e6c1ef"
      },
      "outputs": [],
      "source": [
        "res=pd.DataFrame([res_0,res_1,res_2,res_3,res_4,res_5,res_6,res_7,res_8,res_9])\n",
        "res.columns=['loss','accuracy']\n",
        "res.index=['model_0','model_1','model_2','model_3','model_4','model_5','model_6','model_7','model_8','model_9']"
      ]
    },
    {
      "cell_type": "code",
      "execution_count": null,
      "metadata": {
        "colab": {
          "base_uri": "https://localhost:8080/",
          "height": 492
        },
        "id": "pDTEZFxp-sK8",
        "outputId": "800f17a8-c699-4dff-cd61-4219b4578c69"
      },
      "outputs": [],
      "source": [
        "res.sort_values(by='accuracy',ascending=False).plot(kind='bar')"
      ]
    },
    {
      "cell_type": "markdown",
      "metadata": {
        "id": "6BGbtT1P_VOZ"
      },
      "source": [
        "We will go with model 4 as it is one of the best in accuracy and loss combined and also is (amongst model 8 and 7) the one with the less parameters (3M for 8 and 7 and 800k for 4). We have an accuracy of 86% on test."
      ]
    },
    {
      "cell_type": "markdown",
      "metadata": {
        "id": "hFKFxFpCMNuB"
      },
      "source": [
        "### Confusion matrix :"
      ]
    },
    {
      "cell_type": "code",
      "execution_count": null,
      "metadata": {
        "id": "VL_tAAKdKPHz"
      },
      "outputs": [],
      "source": [
        "model_4 = tf.keras.models.load_model('model_4.keras')"
      ]
    },
    {
      "cell_type": "code",
      "execution_count": null,
      "metadata": {
        "id": "xZFwWthUJB8o"
      },
      "outputs": [],
      "source": [
        "# https://stackoverflow.com/questions/64622210/how-to-extract-classes-from-prefetched-dataset-in-tensorflow-for-confusion-matri\n",
        "\n",
        "y_pred = []  # store predicted labels\n",
        "y_true = []  # store true labels\n",
        "\n",
        "# iterate over the dataset\n",
        "for image_batch, label_batch in batch_test:   # use dataset.unbatch() with repeat\n",
        "   # append true labels\n",
        "   y_true.append(label_batch)\n",
        "   # compute predictions\n",
        "   preds = model_4.predict(image_batch,verbose=0)\n",
        "   # append predicted labels\n",
        "   y_pred.append(np.argmax(preds, axis = 1))\n",
        "\n",
        "# convert the true and predicted labels into tensors\n",
        "correct_labels = tf.concat([item for item in y_true], axis = 0)\n",
        "predicted_labels = tf.concat([item for item in y_pred], axis = 0)"
      ]
    },
    {
      "cell_type": "code",
      "execution_count": null,
      "metadata": {
        "colab": {
          "base_uri": "https://localhost:8080/",
          "height": 716
        },
        "id": "f4yjJ-r_KSMf",
        "outputId": "ca060fbc-5228-4d04-f7e0-be3f51aac8b4"
      },
      "outputs": [],
      "source": [
        "# https://github.com/mrdbourke/tensorflow-deep-learning/blob/main/06_transfer_learning_in_tensorflow_part_3_scaling_up.ipynb\n",
        "\n",
        "n_classes=len(class_names)\n",
        "\n",
        "cm = confusion_matrix(correct_labels, predicted_labels)\n",
        "\n",
        "# Plot the figure and make it pretty\n",
        "fig, ax = plt.subplots(figsize=(8,8))\n",
        "cax = ax.matshow(cm, cmap=plt.cm.Blues) # colors will represent how 'correct' a class is, darker == better\n",
        "fig.colorbar(cax)\n",
        "\n",
        "# Label the axes\n",
        "ax.set(title=\"Confusion Matrix\",\n",
        "        xlabel=\"Predicted label\",\n",
        "        ylabel=\"True label\",\n",
        "        xticks=np.arange(n_classes), # create enough axis slots for each class\n",
        "        yticks=np.arange(n_classes),\n",
        "        xticklabels=class_names,\n",
        "        yticklabels=class_names)\n",
        "\n",
        "# Make x-axis labels appear on bottom\n",
        "ax.xaxis.set_label_position(\"bottom\")\n",
        "ax.xaxis.tick_bottom()\n",
        "\n",
        "### Added: Rotate xticks for readability & increase font size (required due to such a large confusion matrix)\n",
        "plt.xticks(rotation=70, fontsize=12)\n",
        "plt.yticks(fontsize=12)\n",
        "\n",
        "# Set the threshold for different colors\n",
        "threshold = (cm.max() + cm.min()) / 2.\n",
        "\n",
        "# Plot the text on each cell\n",
        "for i, j in itertools.product(range(cm.shape[0]), range(cm.shape[1])):\n",
        "  plt.text(j, i, f\"{cm[i, j]}\",\n",
        "          ha=\"center\",\n",
        "          va='center',\n",
        "          color=\"white\" if cm[i, j] > threshold else \"black\",\n",
        "          size=12)"
      ]
    }
  ],
  "metadata": {
    "accelerator": "GPU",
    "colab": {
      "collapsed_sections": [
        "edX-gSwxFsKB",
        "56Df4Qea_aIR",
        "jbNLD1tsoQqd",
        "U7DkGw7kgUqs",
        "VGAjtE81oTSu",
        "29goZrp0deYi",
        "yL878dPaGevp",
        "5uEXPAsthRXn",
        "61yf6oxSxHke",
        "aPECrPRIxMiZ",
        "kgYtKlV_xPZX"
      ],
      "gpuType": "T4",
      "provenance": []
    },
    "kernelspec": {
      "display_name": "Python 3",
      "name": "python3"
    },
    "language_info": {
      "codemirror_mode": {
        "name": "ipython",
        "version": 3
      },
      "file_extension": ".py",
      "mimetype": "text/x-python",
      "name": "python",
      "nbconvert_exporter": "python",
      "pygments_lexer": "ipython3",
      "version": "3.10.11"
    },
    "widgets": {
      "application/vnd.jupyter.widget-state+json": {
        "044871c04ac64659a2875482770c9e79": {
          "model_module": "@jupyter-widgets/base",
          "model_module_version": "1.2.0",
          "model_name": "LayoutModel",
          "state": {
            "_model_module": "@jupyter-widgets/base",
            "_model_module_version": "1.2.0",
            "_model_name": "LayoutModel",
            "_view_count": null,
            "_view_module": "@jupyter-widgets/base",
            "_view_module_version": "1.2.0",
            "_view_name": "LayoutView",
            "align_content": null,
            "align_items": null,
            "align_self": null,
            "border": null,
            "bottom": null,
            "display": null,
            "flex": null,
            "flex_flow": null,
            "grid_area": null,
            "grid_auto_columns": null,
            "grid_auto_flow": null,
            "grid_auto_rows": null,
            "grid_column": null,
            "grid_gap": null,
            "grid_row": null,
            "grid_template_areas": null,
            "grid_template_columns": null,
            "grid_template_rows": null,
            "height": null,
            "justify_content": null,
            "justify_items": null,
            "left": null,
            "margin": null,
            "max_height": null,
            "max_width": null,
            "min_height": null,
            "min_width": null,
            "object_fit": null,
            "object_position": null,
            "order": null,
            "overflow": null,
            "overflow_x": null,
            "overflow_y": null,
            "padding": null,
            "right": null,
            "top": null,
            "visibility": null,
            "width": "20px"
          }
        },
        "0cdf1f0b465548989537719bb7c1d3f8": {
          "model_module": "@jupyter-widgets/controls",
          "model_module_version": "1.5.0",
          "model_name": "HBoxModel",
          "state": {
            "_dom_classes": [],
            "_model_module": "@jupyter-widgets/controls",
            "_model_module_version": "1.5.0",
            "_model_name": "HBoxModel",
            "_view_count": null,
            "_view_module": "@jupyter-widgets/controls",
            "_view_module_version": "1.5.0",
            "_view_name": "HBoxView",
            "box_style": "",
            "children": [
              "IPY_MODEL_570c4aef150944d4a7112ca8e3b748a0",
              "IPY_MODEL_48a134116f1d4b75aef8681d45af79a6",
              "IPY_MODEL_3afe3051091843a594f5d27ce02c8374"
            ],
            "layout": "IPY_MODEL_2882a9dc8198433e8d720f21ebd013b5"
          }
        },
        "0e743af0bab243ee99e74af0808e11bd": {
          "model_module": "@jupyter-widgets/controls",
          "model_module_version": "1.5.0",
          "model_name": "HBoxModel",
          "state": {
            "_dom_classes": [],
            "_model_module": "@jupyter-widgets/controls",
            "_model_module_version": "1.5.0",
            "_model_name": "HBoxModel",
            "_view_count": null,
            "_view_module": "@jupyter-widgets/controls",
            "_view_module_version": "1.5.0",
            "_view_name": "HBoxView",
            "box_style": "",
            "children": [
              "IPY_MODEL_c06e27bc0f9c4629abae5f574bdda4a3",
              "IPY_MODEL_5828e114140448dab00cb25a100409b2",
              "IPY_MODEL_6438aa94137c47a1b531fff84aa781f1"
            ],
            "layout": "IPY_MODEL_83a4947e4dd4409ea3d85c54a1b175c4"
          }
        },
        "0fba0d4348f94e0b88fb720b9e8f8fbf": {
          "model_module": "@jupyter-widgets/base",
          "model_module_version": "1.2.0",
          "model_name": "LayoutModel",
          "state": {
            "_model_module": "@jupyter-widgets/base",
            "_model_module_version": "1.2.0",
            "_model_name": "LayoutModel",
            "_view_count": null,
            "_view_module": "@jupyter-widgets/base",
            "_view_module_version": "1.2.0",
            "_view_name": "LayoutView",
            "align_content": null,
            "align_items": null,
            "align_self": null,
            "border": null,
            "bottom": null,
            "display": null,
            "flex": null,
            "flex_flow": null,
            "grid_area": null,
            "grid_auto_columns": null,
            "grid_auto_flow": null,
            "grid_auto_rows": null,
            "grid_column": null,
            "grid_gap": null,
            "grid_row": null,
            "grid_template_areas": null,
            "grid_template_columns": null,
            "grid_template_rows": null,
            "height": null,
            "justify_content": null,
            "justify_items": null,
            "left": null,
            "margin": null,
            "max_height": null,
            "max_width": null,
            "min_height": null,
            "min_width": null,
            "object_fit": null,
            "object_position": null,
            "order": null,
            "overflow": null,
            "overflow_x": null,
            "overflow_y": null,
            "padding": null,
            "right": null,
            "top": null,
            "visibility": null,
            "width": "20px"
          }
        },
        "11c36381f1294edbbdad6a035e818ce1": {
          "model_module": "@jupyter-widgets/controls",
          "model_module_version": "1.5.0",
          "model_name": "FloatProgressModel",
          "state": {
            "_dom_classes": [],
            "_model_module": "@jupyter-widgets/controls",
            "_model_module_version": "1.5.0",
            "_model_name": "FloatProgressModel",
            "_view_count": null,
            "_view_module": "@jupyter-widgets/controls",
            "_view_module_version": "1.5.0",
            "_view_name": "ProgressView",
            "bar_style": "",
            "description": "",
            "description_tooltip": null,
            "layout": "IPY_MODEL_289b37cdbb34481892c2e4470ef1b040",
            "max": 50000,
            "min": 0,
            "orientation": "horizontal",
            "style": "IPY_MODEL_7e19b73578754431819d277c9de2a824",
            "value": 50000
          }
        },
        "1903c3b4de0342938d5267f1108fab3e": {
          "model_module": "@jupyter-widgets/controls",
          "model_module_version": "1.5.0",
          "model_name": "HBoxModel",
          "state": {
            "_dom_classes": [],
            "_model_module": "@jupyter-widgets/controls",
            "_model_module_version": "1.5.0",
            "_model_name": "HBoxModel",
            "_view_count": null,
            "_view_module": "@jupyter-widgets/controls",
            "_view_module_version": "1.5.0",
            "_view_name": "HBoxView",
            "box_style": "",
            "children": [
              "IPY_MODEL_afc698a735d3428e9cacb12835941982",
              "IPY_MODEL_ec0f566f2e42446c94cc3a4a1dc83873",
              "IPY_MODEL_d6265eedd1c94ce0848907d231597d4d"
            ],
            "layout": "IPY_MODEL_36871539d0e343af88c91a22654069f4"
          }
        },
        "1cecd6efc2094e3fb406098cd05bb474": {
          "model_module": "@jupyter-widgets/base",
          "model_module_version": "1.2.0",
          "model_name": "LayoutModel",
          "state": {
            "_model_module": "@jupyter-widgets/base",
            "_model_module_version": "1.2.0",
            "_model_name": "LayoutModel",
            "_view_count": null,
            "_view_module": "@jupyter-widgets/base",
            "_view_module_version": "1.2.0",
            "_view_name": "LayoutView",
            "align_content": null,
            "align_items": null,
            "align_self": null,
            "border": null,
            "bottom": null,
            "display": null,
            "flex": null,
            "flex_flow": null,
            "grid_area": null,
            "grid_auto_columns": null,
            "grid_auto_flow": null,
            "grid_auto_rows": null,
            "grid_column": null,
            "grid_gap": null,
            "grid_row": null,
            "grid_template_areas": null,
            "grid_template_columns": null,
            "grid_template_rows": null,
            "height": null,
            "justify_content": null,
            "justify_items": null,
            "left": null,
            "margin": null,
            "max_height": null,
            "max_width": null,
            "min_height": null,
            "min_width": null,
            "object_fit": null,
            "object_position": null,
            "order": null,
            "overflow": null,
            "overflow_x": null,
            "overflow_y": null,
            "padding": null,
            "right": null,
            "top": null,
            "visibility": null,
            "width": null
          }
        },
        "26bac098907441b6b6d86f9b6c67a6b3": {
          "model_module": "@jupyter-widgets/controls",
          "model_module_version": "1.5.0",
          "model_name": "DescriptionStyleModel",
          "state": {
            "_model_module": "@jupyter-widgets/controls",
            "_model_module_version": "1.5.0",
            "_model_name": "DescriptionStyleModel",
            "_view_count": null,
            "_view_module": "@jupyter-widgets/base",
            "_view_module_version": "1.2.0",
            "_view_name": "StyleView",
            "description_width": ""
          }
        },
        "2882a9dc8198433e8d720f21ebd013b5": {
          "model_module": "@jupyter-widgets/base",
          "model_module_version": "1.2.0",
          "model_name": "LayoutModel",
          "state": {
            "_model_module": "@jupyter-widgets/base",
            "_model_module_version": "1.2.0",
            "_model_name": "LayoutModel",
            "_view_count": null,
            "_view_module": "@jupyter-widgets/base",
            "_view_module_version": "1.2.0",
            "_view_name": "LayoutView",
            "align_content": null,
            "align_items": null,
            "align_self": null,
            "border": null,
            "bottom": null,
            "display": null,
            "flex": null,
            "flex_flow": null,
            "grid_area": null,
            "grid_auto_columns": null,
            "grid_auto_flow": null,
            "grid_auto_rows": null,
            "grid_column": null,
            "grid_gap": null,
            "grid_row": null,
            "grid_template_areas": null,
            "grid_template_columns": null,
            "grid_template_rows": null,
            "height": null,
            "justify_content": null,
            "justify_items": null,
            "left": null,
            "margin": null,
            "max_height": null,
            "max_width": null,
            "min_height": null,
            "min_width": null,
            "object_fit": null,
            "object_position": null,
            "order": null,
            "overflow": null,
            "overflow_x": null,
            "overflow_y": null,
            "padding": null,
            "right": null,
            "top": null,
            "visibility": "hidden",
            "width": null
          }
        },
        "289b37cdbb34481892c2e4470ef1b040": {
          "model_module": "@jupyter-widgets/base",
          "model_module_version": "1.2.0",
          "model_name": "LayoutModel",
          "state": {
            "_model_module": "@jupyter-widgets/base",
            "_model_module_version": "1.2.0",
            "_model_name": "LayoutModel",
            "_view_count": null,
            "_view_module": "@jupyter-widgets/base",
            "_view_module_version": "1.2.0",
            "_view_name": "LayoutView",
            "align_content": null,
            "align_items": null,
            "align_self": null,
            "border": null,
            "bottom": null,
            "display": null,
            "flex": null,
            "flex_flow": null,
            "grid_area": null,
            "grid_auto_columns": null,
            "grid_auto_flow": null,
            "grid_auto_rows": null,
            "grid_column": null,
            "grid_gap": null,
            "grid_row": null,
            "grid_template_areas": null,
            "grid_template_columns": null,
            "grid_template_rows": null,
            "height": null,
            "justify_content": null,
            "justify_items": null,
            "left": null,
            "margin": null,
            "max_height": null,
            "max_width": null,
            "min_height": null,
            "min_width": null,
            "object_fit": null,
            "object_position": null,
            "order": null,
            "overflow": null,
            "overflow_x": null,
            "overflow_y": null,
            "padding": null,
            "right": null,
            "top": null,
            "visibility": null,
            "width": null
          }
        },
        "2a9c111fa80a4885b40fbc8bb8a2e5da": {
          "model_module": "@jupyter-widgets/controls",
          "model_module_version": "1.5.0",
          "model_name": "DescriptionStyleModel",
          "state": {
            "_model_module": "@jupyter-widgets/controls",
            "_model_module_version": "1.5.0",
            "_model_name": "DescriptionStyleModel",
            "_view_count": null,
            "_view_module": "@jupyter-widgets/base",
            "_view_module_version": "1.2.0",
            "_view_name": "StyleView",
            "description_width": ""
          }
        },
        "2c7bc592024e46ea909cf56b39e7634f": {
          "model_module": "@jupyter-widgets/base",
          "model_module_version": "1.2.0",
          "model_name": "LayoutModel",
          "state": {
            "_model_module": "@jupyter-widgets/base",
            "_model_module_version": "1.2.0",
            "_model_name": "LayoutModel",
            "_view_count": null,
            "_view_module": "@jupyter-widgets/base",
            "_view_module_version": "1.2.0",
            "_view_name": "LayoutView",
            "align_content": null,
            "align_items": null,
            "align_self": null,
            "border": null,
            "bottom": null,
            "display": null,
            "flex": null,
            "flex_flow": null,
            "grid_area": null,
            "grid_auto_columns": null,
            "grid_auto_flow": null,
            "grid_auto_rows": null,
            "grid_column": null,
            "grid_gap": null,
            "grid_row": null,
            "grid_template_areas": null,
            "grid_template_columns": null,
            "grid_template_rows": null,
            "height": null,
            "justify_content": null,
            "justify_items": null,
            "left": null,
            "margin": null,
            "max_height": null,
            "max_width": null,
            "min_height": null,
            "min_width": null,
            "object_fit": null,
            "object_position": null,
            "order": null,
            "overflow": null,
            "overflow_x": null,
            "overflow_y": null,
            "padding": null,
            "right": null,
            "top": null,
            "visibility": null,
            "width": null
          }
        },
        "3312c6e5382b45cf8e39d79736486ef9": {
          "model_module": "@jupyter-widgets/controls",
          "model_module_version": "1.5.0",
          "model_name": "DescriptionStyleModel",
          "state": {
            "_model_module": "@jupyter-widgets/controls",
            "_model_module_version": "1.5.0",
            "_model_name": "DescriptionStyleModel",
            "_view_count": null,
            "_view_module": "@jupyter-widgets/base",
            "_view_module_version": "1.2.0",
            "_view_name": "StyleView",
            "description_width": ""
          }
        },
        "36871539d0e343af88c91a22654069f4": {
          "model_module": "@jupyter-widgets/base",
          "model_module_version": "1.2.0",
          "model_name": "LayoutModel",
          "state": {
            "_model_module": "@jupyter-widgets/base",
            "_model_module_version": "1.2.0",
            "_model_name": "LayoutModel",
            "_view_count": null,
            "_view_module": "@jupyter-widgets/base",
            "_view_module_version": "1.2.0",
            "_view_name": "LayoutView",
            "align_content": null,
            "align_items": null,
            "align_self": null,
            "border": null,
            "bottom": null,
            "display": null,
            "flex": null,
            "flex_flow": null,
            "grid_area": null,
            "grid_auto_columns": null,
            "grid_auto_flow": null,
            "grid_auto_rows": null,
            "grid_column": null,
            "grid_gap": null,
            "grid_row": null,
            "grid_template_areas": null,
            "grid_template_columns": null,
            "grid_template_rows": null,
            "height": null,
            "justify_content": null,
            "justify_items": null,
            "left": null,
            "margin": null,
            "max_height": null,
            "max_width": null,
            "min_height": null,
            "min_width": null,
            "object_fit": null,
            "object_position": null,
            "order": null,
            "overflow": null,
            "overflow_x": null,
            "overflow_y": null,
            "padding": null,
            "right": null,
            "top": null,
            "visibility": "hidden",
            "width": null
          }
        },
        "39a2c4338e6747fd87e6755456e7db0d": {
          "model_module": "@jupyter-widgets/controls",
          "model_module_version": "1.5.0",
          "model_name": "ProgressStyleModel",
          "state": {
            "_model_module": "@jupyter-widgets/controls",
            "_model_module_version": "1.5.0",
            "_model_name": "ProgressStyleModel",
            "_view_count": null,
            "_view_module": "@jupyter-widgets/base",
            "_view_module_version": "1.2.0",
            "_view_name": "StyleView",
            "bar_color": null,
            "description_width": ""
          }
        },
        "3afe3051091843a594f5d27ce02c8374": {
          "model_module": "@jupyter-widgets/controls",
          "model_module_version": "1.5.0",
          "model_name": "HTMLModel",
          "state": {
            "_dom_classes": [],
            "_model_module": "@jupyter-widgets/controls",
            "_model_module_version": "1.5.0",
            "_model_name": "HTMLModel",
            "_view_count": null,
            "_view_module": "@jupyter-widgets/controls",
            "_view_module_version": "1.5.0",
            "_view_name": "HTMLView",
            "description": "",
            "description_tooltip": null,
            "layout": "IPY_MODEL_58517ffa4b684caab763716591443bcf",
            "placeholder": "​",
            "style": "IPY_MODEL_758ee14203fd4f288dc5e936195599e6",
            "value": " 8600/10000 [00:05&lt;00:00, 1735.46 examples/s]"
          }
        },
        "3b76be786529473fa968050bea45c2bd": {
          "model_module": "@jupyter-widgets/base",
          "model_module_version": "1.2.0",
          "model_name": "LayoutModel",
          "state": {
            "_model_module": "@jupyter-widgets/base",
            "_model_module_version": "1.2.0",
            "_model_name": "LayoutModel",
            "_view_count": null,
            "_view_module": "@jupyter-widgets/base",
            "_view_module_version": "1.2.0",
            "_view_name": "LayoutView",
            "align_content": null,
            "align_items": null,
            "align_self": null,
            "border": null,
            "bottom": null,
            "display": null,
            "flex": null,
            "flex_flow": null,
            "grid_area": null,
            "grid_auto_columns": null,
            "grid_auto_flow": null,
            "grid_auto_rows": null,
            "grid_column": null,
            "grid_gap": null,
            "grid_row": null,
            "grid_template_areas": null,
            "grid_template_columns": null,
            "grid_template_rows": null,
            "height": null,
            "justify_content": null,
            "justify_items": null,
            "left": null,
            "margin": null,
            "max_height": null,
            "max_width": null,
            "min_height": null,
            "min_width": null,
            "object_fit": null,
            "object_position": null,
            "order": null,
            "overflow": null,
            "overflow_x": null,
            "overflow_y": null,
            "padding": null,
            "right": null,
            "top": null,
            "visibility": null,
            "width": null
          }
        },
        "3ef8ff86747c4b22b5458e673bee73ca": {
          "model_module": "@jupyter-widgets/base",
          "model_module_version": "1.2.0",
          "model_name": "LayoutModel",
          "state": {
            "_model_module": "@jupyter-widgets/base",
            "_model_module_version": "1.2.0",
            "_model_name": "LayoutModel",
            "_view_count": null,
            "_view_module": "@jupyter-widgets/base",
            "_view_module_version": "1.2.0",
            "_view_name": "LayoutView",
            "align_content": null,
            "align_items": null,
            "align_self": null,
            "border": null,
            "bottom": null,
            "display": null,
            "flex": null,
            "flex_flow": null,
            "grid_area": null,
            "grid_auto_columns": null,
            "grid_auto_flow": null,
            "grid_auto_rows": null,
            "grid_column": null,
            "grid_gap": null,
            "grid_row": null,
            "grid_template_areas": null,
            "grid_template_columns": null,
            "grid_template_rows": null,
            "height": null,
            "justify_content": null,
            "justify_items": null,
            "left": null,
            "margin": null,
            "max_height": null,
            "max_width": null,
            "min_height": null,
            "min_width": null,
            "object_fit": null,
            "object_position": null,
            "order": null,
            "overflow": null,
            "overflow_x": null,
            "overflow_y": null,
            "padding": null,
            "right": null,
            "top": null,
            "visibility": null,
            "width": null
          }
        },
        "4249208ee6f94d6585f11361b1569014": {
          "model_module": "@jupyter-widgets/base",
          "model_module_version": "1.2.0",
          "model_name": "LayoutModel",
          "state": {
            "_model_module": "@jupyter-widgets/base",
            "_model_module_version": "1.2.0",
            "_model_name": "LayoutModel",
            "_view_count": null,
            "_view_module": "@jupyter-widgets/base",
            "_view_module_version": "1.2.0",
            "_view_name": "LayoutView",
            "align_content": null,
            "align_items": null,
            "align_self": null,
            "border": null,
            "bottom": null,
            "display": null,
            "flex": null,
            "flex_flow": null,
            "grid_area": null,
            "grid_auto_columns": null,
            "grid_auto_flow": null,
            "grid_auto_rows": null,
            "grid_column": null,
            "grid_gap": null,
            "grid_row": null,
            "grid_template_areas": null,
            "grid_template_columns": null,
            "grid_template_rows": null,
            "height": null,
            "justify_content": null,
            "justify_items": null,
            "left": null,
            "margin": null,
            "max_height": null,
            "max_width": null,
            "min_height": null,
            "min_width": null,
            "object_fit": null,
            "object_position": null,
            "order": null,
            "overflow": null,
            "overflow_x": null,
            "overflow_y": null,
            "padding": null,
            "right": null,
            "top": null,
            "visibility": null,
            "width": null
          }
        },
        "4266bf396fdc409f8bc47b0eed463756": {
          "model_module": "@jupyter-widgets/base",
          "model_module_version": "1.2.0",
          "model_name": "LayoutModel",
          "state": {
            "_model_module": "@jupyter-widgets/base",
            "_model_module_version": "1.2.0",
            "_model_name": "LayoutModel",
            "_view_count": null,
            "_view_module": "@jupyter-widgets/base",
            "_view_module_version": "1.2.0",
            "_view_name": "LayoutView",
            "align_content": null,
            "align_items": null,
            "align_self": null,
            "border": null,
            "bottom": null,
            "display": null,
            "flex": null,
            "flex_flow": null,
            "grid_area": null,
            "grid_auto_columns": null,
            "grid_auto_flow": null,
            "grid_auto_rows": null,
            "grid_column": null,
            "grid_gap": null,
            "grid_row": null,
            "grid_template_areas": null,
            "grid_template_columns": null,
            "grid_template_rows": null,
            "height": null,
            "justify_content": null,
            "justify_items": null,
            "left": null,
            "margin": null,
            "max_height": null,
            "max_width": null,
            "min_height": null,
            "min_width": null,
            "object_fit": null,
            "object_position": null,
            "order": null,
            "overflow": null,
            "overflow_x": null,
            "overflow_y": null,
            "padding": null,
            "right": null,
            "top": null,
            "visibility": null,
            "width": null
          }
        },
        "461f033394504513848739e70693269d": {
          "model_module": "@jupyter-widgets/controls",
          "model_module_version": "1.5.0",
          "model_name": "HBoxModel",
          "state": {
            "_dom_classes": [],
            "_model_module": "@jupyter-widgets/controls",
            "_model_module_version": "1.5.0",
            "_model_name": "HBoxModel",
            "_view_count": null,
            "_view_module": "@jupyter-widgets/controls",
            "_view_module_version": "1.5.0",
            "_view_name": "HBoxView",
            "box_style": "",
            "children": [
              "IPY_MODEL_51580a122aa84b448cbfcd5b55916beb",
              "IPY_MODEL_df71ab6649c5462493a0a6e0e84fb48c",
              "IPY_MODEL_62d0b83369114b7f9d908b8803858bf6"
            ],
            "layout": "IPY_MODEL_477ab05c80534606ad7d4381d0934eb5"
          }
        },
        "477ab05c80534606ad7d4381d0934eb5": {
          "model_module": "@jupyter-widgets/base",
          "model_module_version": "1.2.0",
          "model_name": "LayoutModel",
          "state": {
            "_model_module": "@jupyter-widgets/base",
            "_model_module_version": "1.2.0",
            "_model_name": "LayoutModel",
            "_view_count": null,
            "_view_module": "@jupyter-widgets/base",
            "_view_module_version": "1.2.0",
            "_view_name": "LayoutView",
            "align_content": null,
            "align_items": null,
            "align_self": null,
            "border": null,
            "bottom": null,
            "display": null,
            "flex": null,
            "flex_flow": null,
            "grid_area": null,
            "grid_auto_columns": null,
            "grid_auto_flow": null,
            "grid_auto_rows": null,
            "grid_column": null,
            "grid_gap": null,
            "grid_row": null,
            "grid_template_areas": null,
            "grid_template_columns": null,
            "grid_template_rows": null,
            "height": null,
            "justify_content": null,
            "justify_items": null,
            "left": null,
            "margin": null,
            "max_height": null,
            "max_width": null,
            "min_height": null,
            "min_width": null,
            "object_fit": null,
            "object_position": null,
            "order": null,
            "overflow": null,
            "overflow_x": null,
            "overflow_y": null,
            "padding": null,
            "right": null,
            "top": null,
            "visibility": "hidden",
            "width": null
          }
        },
        "489058ac124d4a929ea44c151b4f46c6": {
          "model_module": "@jupyter-widgets/controls",
          "model_module_version": "1.5.0",
          "model_name": "HTMLModel",
          "state": {
            "_dom_classes": [],
            "_model_module": "@jupyter-widgets/controls",
            "_model_module_version": "1.5.0",
            "_model_name": "HTMLModel",
            "_view_count": null,
            "_view_module": "@jupyter-widgets/controls",
            "_view_module_version": "1.5.0",
            "_view_name": "HTMLView",
            "description": "",
            "description_tooltip": null,
            "layout": "IPY_MODEL_b2eff29ea5e1410f82c7aef67b5b1352",
            "placeholder": "​",
            "style": "IPY_MODEL_a85f7bb452d348f7b08867f5e2455ba1",
            "value": "Generating train examples...:  97%"
          }
        },
        "48a134116f1d4b75aef8681d45af79a6": {
          "model_module": "@jupyter-widgets/controls",
          "model_module_version": "1.5.0",
          "model_name": "FloatProgressModel",
          "state": {
            "_dom_classes": [],
            "_model_module": "@jupyter-widgets/controls",
            "_model_module_version": "1.5.0",
            "_model_name": "FloatProgressModel",
            "_view_count": null,
            "_view_module": "@jupyter-widgets/controls",
            "_view_module_version": "1.5.0",
            "_view_name": "ProgressView",
            "bar_style": "",
            "description": "",
            "description_tooltip": null,
            "layout": "IPY_MODEL_82f5ec7398a04384b51546aa4ffa1cb7",
            "max": 10000,
            "min": 0,
            "orientation": "horizontal",
            "style": "IPY_MODEL_39a2c4338e6747fd87e6755456e7db0d",
            "value": 10000
          }
        },
        "4ddd24929cb042a385e0fdbde74138f7": {
          "model_module": "@jupyter-widgets/controls",
          "model_module_version": "1.5.0",
          "model_name": "DescriptionStyleModel",
          "state": {
            "_model_module": "@jupyter-widgets/controls",
            "_model_module_version": "1.5.0",
            "_model_name": "DescriptionStyleModel",
            "_view_count": null,
            "_view_module": "@jupyter-widgets/base",
            "_view_module_version": "1.2.0",
            "_view_name": "StyleView",
            "description_width": ""
          }
        },
        "51580a122aa84b448cbfcd5b55916beb": {
          "model_module": "@jupyter-widgets/controls",
          "model_module_version": "1.5.0",
          "model_name": "HTMLModel",
          "state": {
            "_dom_classes": [],
            "_model_module": "@jupyter-widgets/controls",
            "_model_module_version": "1.5.0",
            "_model_name": "HTMLModel",
            "_view_count": null,
            "_view_module": "@jupyter-widgets/controls",
            "_view_module_version": "1.5.0",
            "_view_name": "HTMLView",
            "description": "",
            "description_tooltip": null,
            "layout": "IPY_MODEL_74ef7ecd0d8a40eabb556b6e7bebb8fe",
            "placeholder": "​",
            "style": "IPY_MODEL_fc17c999563349048469225e2f87dfc6",
            "value": "Shuffling /root/tensorflow_datasets/cifar10/incomplete.0AGEL1_3.0.2/cifar10-train.tfrecord*...:   0%"
          }
        },
        "51b40757eaab4e75be4da97175b9c166": {
          "model_module": "@jupyter-widgets/base",
          "model_module_version": "1.2.0",
          "model_name": "LayoutModel",
          "state": {
            "_model_module": "@jupyter-widgets/base",
            "_model_module_version": "1.2.0",
            "_model_name": "LayoutModel",
            "_view_count": null,
            "_view_module": "@jupyter-widgets/base",
            "_view_module_version": "1.2.0",
            "_view_name": "LayoutView",
            "align_content": null,
            "align_items": null,
            "align_self": null,
            "border": null,
            "bottom": null,
            "display": null,
            "flex": null,
            "flex_flow": null,
            "grid_area": null,
            "grid_auto_columns": null,
            "grid_auto_flow": null,
            "grid_auto_rows": null,
            "grid_column": null,
            "grid_gap": null,
            "grid_row": null,
            "grid_template_areas": null,
            "grid_template_columns": null,
            "grid_template_rows": null,
            "height": null,
            "justify_content": null,
            "justify_items": null,
            "left": null,
            "margin": null,
            "max_height": null,
            "max_width": null,
            "min_height": null,
            "min_width": null,
            "object_fit": null,
            "object_position": null,
            "order": null,
            "overflow": null,
            "overflow_x": null,
            "overflow_y": null,
            "padding": null,
            "right": null,
            "top": null,
            "visibility": "hidden",
            "width": null
          }
        },
        "5279bb6082ae4b1995d290889bedabff": {
          "model_module": "@jupyter-widgets/controls",
          "model_module_version": "1.5.0",
          "model_name": "HBoxModel",
          "state": {
            "_dom_classes": [],
            "_model_module": "@jupyter-widgets/controls",
            "_model_module_version": "1.5.0",
            "_model_name": "HBoxModel",
            "_view_count": null,
            "_view_module": "@jupyter-widgets/controls",
            "_view_module_version": "1.5.0",
            "_view_name": "HBoxView",
            "box_style": "",
            "children": [
              "IPY_MODEL_e8063e1295174044839caa978a503125",
              "IPY_MODEL_a6dc301424744b899b5868c502084638",
              "IPY_MODEL_64574b7c7fd94d8b8965cdbad04723dc"
            ],
            "layout": "IPY_MODEL_2c7bc592024e46ea909cf56b39e7634f"
          }
        },
        "570c4aef150944d4a7112ca8e3b748a0": {
          "model_module": "@jupyter-widgets/controls",
          "model_module_version": "1.5.0",
          "model_name": "HTMLModel",
          "state": {
            "_dom_classes": [],
            "_model_module": "@jupyter-widgets/controls",
            "_model_module_version": "1.5.0",
            "_model_name": "HTMLModel",
            "_view_count": null,
            "_view_module": "@jupyter-widgets/controls",
            "_view_module_version": "1.5.0",
            "_view_name": "HTMLView",
            "description": "",
            "description_tooltip": null,
            "layout": "IPY_MODEL_b022f15feec24be1ae413eb51d7b2678",
            "placeholder": "​",
            "style": "IPY_MODEL_cfcfe7719b444fa1854de6bd8fd32819",
            "value": "Generating test examples...:  86%"
          }
        },
        "5804ef672ada43499eb61f93ce4f14b8": {
          "model_module": "@jupyter-widgets/controls",
          "model_module_version": "1.5.0",
          "model_name": "HBoxModel",
          "state": {
            "_dom_classes": [],
            "_model_module": "@jupyter-widgets/controls",
            "_model_module_version": "1.5.0",
            "_model_name": "HBoxModel",
            "_view_count": null,
            "_view_module": "@jupyter-widgets/controls",
            "_view_module_version": "1.5.0",
            "_view_name": "HBoxView",
            "box_style": "",
            "children": [
              "IPY_MODEL_489058ac124d4a929ea44c151b4f46c6",
              "IPY_MODEL_11c36381f1294edbbdad6a035e818ce1",
              "IPY_MODEL_7e783aed2965433f8c6c0d5cf21857cb"
            ],
            "layout": "IPY_MODEL_51b40757eaab4e75be4da97175b9c166"
          }
        },
        "5828e114140448dab00cb25a100409b2": {
          "model_module": "@jupyter-widgets/controls",
          "model_module_version": "1.5.0",
          "model_name": "FloatProgressModel",
          "state": {
            "_dom_classes": [],
            "_model_module": "@jupyter-widgets/controls",
            "_model_module_version": "1.5.0",
            "_model_name": "FloatProgressModel",
            "_view_count": null,
            "_view_module": "@jupyter-widgets/controls",
            "_view_module_version": "1.5.0",
            "_view_name": "ProgressView",
            "bar_style": "",
            "description": "",
            "description_tooltip": null,
            "layout": "IPY_MODEL_875f39a6a7ae43d1bbc22bfb8b0de997",
            "max": 2,
            "min": 0,
            "orientation": "horizontal",
            "style": "IPY_MODEL_c101d5269e324a17b1c00209751d0083",
            "value": 2
          }
        },
        "58517ffa4b684caab763716591443bcf": {
          "model_module": "@jupyter-widgets/base",
          "model_module_version": "1.2.0",
          "model_name": "LayoutModel",
          "state": {
            "_model_module": "@jupyter-widgets/base",
            "_model_module_version": "1.2.0",
            "_model_name": "LayoutModel",
            "_view_count": null,
            "_view_module": "@jupyter-widgets/base",
            "_view_module_version": "1.2.0",
            "_view_name": "LayoutView",
            "align_content": null,
            "align_items": null,
            "align_self": null,
            "border": null,
            "bottom": null,
            "display": null,
            "flex": null,
            "flex_flow": null,
            "grid_area": null,
            "grid_auto_columns": null,
            "grid_auto_flow": null,
            "grid_auto_rows": null,
            "grid_column": null,
            "grid_gap": null,
            "grid_row": null,
            "grid_template_areas": null,
            "grid_template_columns": null,
            "grid_template_rows": null,
            "height": null,
            "justify_content": null,
            "justify_items": null,
            "left": null,
            "margin": null,
            "max_height": null,
            "max_width": null,
            "min_height": null,
            "min_width": null,
            "object_fit": null,
            "object_position": null,
            "order": null,
            "overflow": null,
            "overflow_x": null,
            "overflow_y": null,
            "padding": null,
            "right": null,
            "top": null,
            "visibility": null,
            "width": null
          }
        },
        "5a453d03333247bf83f00c20ce65a21f": {
          "model_module": "@jupyter-widgets/base",
          "model_module_version": "1.2.0",
          "model_name": "LayoutModel",
          "state": {
            "_model_module": "@jupyter-widgets/base",
            "_model_module_version": "1.2.0",
            "_model_name": "LayoutModel",
            "_view_count": null,
            "_view_module": "@jupyter-widgets/base",
            "_view_module_version": "1.2.0",
            "_view_name": "LayoutView",
            "align_content": null,
            "align_items": null,
            "align_self": null,
            "border": null,
            "bottom": null,
            "display": null,
            "flex": null,
            "flex_flow": null,
            "grid_area": null,
            "grid_auto_columns": null,
            "grid_auto_flow": null,
            "grid_auto_rows": null,
            "grid_column": null,
            "grid_gap": null,
            "grid_row": null,
            "grid_template_areas": null,
            "grid_template_columns": null,
            "grid_template_rows": null,
            "height": null,
            "justify_content": null,
            "justify_items": null,
            "left": null,
            "margin": null,
            "max_height": null,
            "max_width": null,
            "min_height": null,
            "min_width": null,
            "object_fit": null,
            "object_position": null,
            "order": null,
            "overflow": null,
            "overflow_x": null,
            "overflow_y": null,
            "padding": null,
            "right": null,
            "top": null,
            "visibility": null,
            "width": null
          }
        },
        "5b7bd42e5086422e8480581bfd2aa9c6": {
          "model_module": "@jupyter-widgets/base",
          "model_module_version": "1.2.0",
          "model_name": "LayoutModel",
          "state": {
            "_model_module": "@jupyter-widgets/base",
            "_model_module_version": "1.2.0",
            "_model_name": "LayoutModel",
            "_view_count": null,
            "_view_module": "@jupyter-widgets/base",
            "_view_module_version": "1.2.0",
            "_view_name": "LayoutView",
            "align_content": null,
            "align_items": null,
            "align_self": null,
            "border": null,
            "bottom": null,
            "display": null,
            "flex": null,
            "flex_flow": null,
            "grid_area": null,
            "grid_auto_columns": null,
            "grid_auto_flow": null,
            "grid_auto_rows": null,
            "grid_column": null,
            "grid_gap": null,
            "grid_row": null,
            "grid_template_areas": null,
            "grid_template_columns": null,
            "grid_template_rows": null,
            "height": null,
            "justify_content": null,
            "justify_items": null,
            "left": null,
            "margin": null,
            "max_height": null,
            "max_width": null,
            "min_height": null,
            "min_width": null,
            "object_fit": null,
            "object_position": null,
            "order": null,
            "overflow": null,
            "overflow_x": null,
            "overflow_y": null,
            "padding": null,
            "right": null,
            "top": null,
            "visibility": null,
            "width": null
          }
        },
        "62d0b83369114b7f9d908b8803858bf6": {
          "model_module": "@jupyter-widgets/controls",
          "model_module_version": "1.5.0",
          "model_name": "HTMLModel",
          "state": {
            "_dom_classes": [],
            "_model_module": "@jupyter-widgets/controls",
            "_model_module_version": "1.5.0",
            "_model_name": "HTMLModel",
            "_view_count": null,
            "_view_module": "@jupyter-widgets/controls",
            "_view_module_version": "1.5.0",
            "_view_name": "HTMLView",
            "description": "",
            "description_tooltip": null,
            "layout": "IPY_MODEL_5b7bd42e5086422e8480581bfd2aa9c6",
            "placeholder": "​",
            "style": "IPY_MODEL_7954fa20bc994196b9fbb9282fe3a61c",
            "value": " 0/50000 [00:00&lt;?, ? examples/s]"
          }
        },
        "6438aa94137c47a1b531fff84aa781f1": {
          "model_module": "@jupyter-widgets/controls",
          "model_module_version": "1.5.0",
          "model_name": "HTMLModel",
          "state": {
            "_dom_classes": [],
            "_model_module": "@jupyter-widgets/controls",
            "_model_module_version": "1.5.0",
            "_model_name": "HTMLModel",
            "_view_count": null,
            "_view_module": "@jupyter-widgets/controls",
            "_view_module_version": "1.5.0",
            "_view_name": "HTMLView",
            "description": "",
            "description_tooltip": null,
            "layout": "IPY_MODEL_4266bf396fdc409f8bc47b0eed463756",
            "placeholder": "​",
            "style": "IPY_MODEL_be9be1af897e4fd7ada4e25ba927d213",
            "value": " 2/2 [00:53&lt;00:00, 22.97s/ splits]"
          }
        },
        "64574b7c7fd94d8b8965cdbad04723dc": {
          "model_module": "@jupyter-widgets/controls",
          "model_module_version": "1.5.0",
          "model_name": "HTMLModel",
          "state": {
            "_dom_classes": [],
            "_model_module": "@jupyter-widgets/controls",
            "_model_module_version": "1.5.0",
            "_model_name": "HTMLModel",
            "_view_count": null,
            "_view_module": "@jupyter-widgets/controls",
            "_view_module_version": "1.5.0",
            "_view_name": "HTMLView",
            "description": "",
            "description_tooltip": null,
            "layout": "IPY_MODEL_3ef8ff86747c4b22b5458e673bee73ca",
            "placeholder": "​",
            "style": "IPY_MODEL_26bac098907441b6b6d86f9b6c67a6b3",
            "value": " 1/1 [00:09&lt;00:00,  5.88s/ url]"
          }
        },
        "688811c37c45493690ff12faaf5b6e14": {
          "model_module": "@jupyter-widgets/controls",
          "model_module_version": "1.5.0",
          "model_name": "ProgressStyleModel",
          "state": {
            "_model_module": "@jupyter-widgets/controls",
            "_model_module_version": "1.5.0",
            "_model_name": "ProgressStyleModel",
            "_view_count": null,
            "_view_module": "@jupyter-widgets/base",
            "_view_module_version": "1.2.0",
            "_view_name": "StyleView",
            "bar_color": null,
            "description_width": ""
          }
        },
        "688c42e54c1c4c06b0a01f1aa28ae4a6": {
          "model_module": "@jupyter-widgets/controls",
          "model_module_version": "1.5.0",
          "model_name": "HBoxModel",
          "state": {
            "_dom_classes": [],
            "_model_module": "@jupyter-widgets/controls",
            "_model_module_version": "1.5.0",
            "_model_name": "HBoxModel",
            "_view_count": null,
            "_view_module": "@jupyter-widgets/controls",
            "_view_module_version": "1.5.0",
            "_view_name": "HBoxView",
            "box_style": "",
            "children": [
              "IPY_MODEL_c17c930766b74065a38544e68b953a6b",
              "IPY_MODEL_c5df2da3f7c94418a095fa109160b89d",
              "IPY_MODEL_fb70cfc1e85f4a66997f10348766f438"
            ],
            "layout": "IPY_MODEL_bbadf758e3fb40d5b2c96505244dcc73"
          }
        },
        "6ab0ccc98f824713ad87a2e9a644c35c": {
          "model_module": "@jupyter-widgets/controls",
          "model_module_version": "1.5.0",
          "model_name": "DescriptionStyleModel",
          "state": {
            "_model_module": "@jupyter-widgets/controls",
            "_model_module_version": "1.5.0",
            "_model_name": "DescriptionStyleModel",
            "_view_count": null,
            "_view_module": "@jupyter-widgets/base",
            "_view_module_version": "1.2.0",
            "_view_name": "StyleView",
            "description_width": ""
          }
        },
        "74ef7ecd0d8a40eabb556b6e7bebb8fe": {
          "model_module": "@jupyter-widgets/base",
          "model_module_version": "1.2.0",
          "model_name": "LayoutModel",
          "state": {
            "_model_module": "@jupyter-widgets/base",
            "_model_module_version": "1.2.0",
            "_model_name": "LayoutModel",
            "_view_count": null,
            "_view_module": "@jupyter-widgets/base",
            "_view_module_version": "1.2.0",
            "_view_name": "LayoutView",
            "align_content": null,
            "align_items": null,
            "align_self": null,
            "border": null,
            "bottom": null,
            "display": null,
            "flex": null,
            "flex_flow": null,
            "grid_area": null,
            "grid_auto_columns": null,
            "grid_auto_flow": null,
            "grid_auto_rows": null,
            "grid_column": null,
            "grid_gap": null,
            "grid_row": null,
            "grid_template_areas": null,
            "grid_template_columns": null,
            "grid_template_rows": null,
            "height": null,
            "justify_content": null,
            "justify_items": null,
            "left": null,
            "margin": null,
            "max_height": null,
            "max_width": null,
            "min_height": null,
            "min_width": null,
            "object_fit": null,
            "object_position": null,
            "order": null,
            "overflow": null,
            "overflow_x": null,
            "overflow_y": null,
            "padding": null,
            "right": null,
            "top": null,
            "visibility": null,
            "width": null
          }
        },
        "758ee14203fd4f288dc5e936195599e6": {
          "model_module": "@jupyter-widgets/controls",
          "model_module_version": "1.5.0",
          "model_name": "DescriptionStyleModel",
          "state": {
            "_model_module": "@jupyter-widgets/controls",
            "_model_module_version": "1.5.0",
            "_model_name": "DescriptionStyleModel",
            "_view_count": null,
            "_view_module": "@jupyter-widgets/base",
            "_view_module_version": "1.2.0",
            "_view_name": "StyleView",
            "description_width": ""
          }
        },
        "7954fa20bc994196b9fbb9282fe3a61c": {
          "model_module": "@jupyter-widgets/controls",
          "model_module_version": "1.5.0",
          "model_name": "DescriptionStyleModel",
          "state": {
            "_model_module": "@jupyter-widgets/controls",
            "_model_module_version": "1.5.0",
            "_model_name": "DescriptionStyleModel",
            "_view_count": null,
            "_view_module": "@jupyter-widgets/base",
            "_view_module_version": "1.2.0",
            "_view_name": "StyleView",
            "description_width": ""
          }
        },
        "7e19b73578754431819d277c9de2a824": {
          "model_module": "@jupyter-widgets/controls",
          "model_module_version": "1.5.0",
          "model_name": "ProgressStyleModel",
          "state": {
            "_model_module": "@jupyter-widgets/controls",
            "_model_module_version": "1.5.0",
            "_model_name": "ProgressStyleModel",
            "_view_count": null,
            "_view_module": "@jupyter-widgets/base",
            "_view_module_version": "1.2.0",
            "_view_name": "StyleView",
            "bar_color": null,
            "description_width": ""
          }
        },
        "7e783aed2965433f8c6c0d5cf21857cb": {
          "model_module": "@jupyter-widgets/controls",
          "model_module_version": "1.5.0",
          "model_name": "HTMLModel",
          "state": {
            "_dom_classes": [],
            "_model_module": "@jupyter-widgets/controls",
            "_model_module_version": "1.5.0",
            "_model_name": "HTMLModel",
            "_view_count": null,
            "_view_module": "@jupyter-widgets/controls",
            "_view_module_version": "1.5.0",
            "_view_name": "HTMLView",
            "description": "",
            "description_tooltip": null,
            "layout": "IPY_MODEL_8dc00bf45bb44b15ac2c35a7e455b125",
            "placeholder": "​",
            "style": "IPY_MODEL_b5f133cf1cba4add96fff56a10665861",
            "value": " 48256/50000 [00:45&lt;00:01, 1520.54 examples/s]"
          }
        },
        "82f5ec7398a04384b51546aa4ffa1cb7": {
          "model_module": "@jupyter-widgets/base",
          "model_module_version": "1.2.0",
          "model_name": "LayoutModel",
          "state": {
            "_model_module": "@jupyter-widgets/base",
            "_model_module_version": "1.2.0",
            "_model_name": "LayoutModel",
            "_view_count": null,
            "_view_module": "@jupyter-widgets/base",
            "_view_module_version": "1.2.0",
            "_view_name": "LayoutView",
            "align_content": null,
            "align_items": null,
            "align_self": null,
            "border": null,
            "bottom": null,
            "display": null,
            "flex": null,
            "flex_flow": null,
            "grid_area": null,
            "grid_auto_columns": null,
            "grid_auto_flow": null,
            "grid_auto_rows": null,
            "grid_column": null,
            "grid_gap": null,
            "grid_row": null,
            "grid_template_areas": null,
            "grid_template_columns": null,
            "grid_template_rows": null,
            "height": null,
            "justify_content": null,
            "justify_items": null,
            "left": null,
            "margin": null,
            "max_height": null,
            "max_width": null,
            "min_height": null,
            "min_width": null,
            "object_fit": null,
            "object_position": null,
            "order": null,
            "overflow": null,
            "overflow_x": null,
            "overflow_y": null,
            "padding": null,
            "right": null,
            "top": null,
            "visibility": null,
            "width": null
          }
        },
        "83a4947e4dd4409ea3d85c54a1b175c4": {
          "model_module": "@jupyter-widgets/base",
          "model_module_version": "1.2.0",
          "model_name": "LayoutModel",
          "state": {
            "_model_module": "@jupyter-widgets/base",
            "_model_module_version": "1.2.0",
            "_model_name": "LayoutModel",
            "_view_count": null,
            "_view_module": "@jupyter-widgets/base",
            "_view_module_version": "1.2.0",
            "_view_name": "LayoutView",
            "align_content": null,
            "align_items": null,
            "align_self": null,
            "border": null,
            "bottom": null,
            "display": null,
            "flex": null,
            "flex_flow": null,
            "grid_area": null,
            "grid_auto_columns": null,
            "grid_auto_flow": null,
            "grid_auto_rows": null,
            "grid_column": null,
            "grid_gap": null,
            "grid_row": null,
            "grid_template_areas": null,
            "grid_template_columns": null,
            "grid_template_rows": null,
            "height": null,
            "justify_content": null,
            "justify_items": null,
            "left": null,
            "margin": null,
            "max_height": null,
            "max_width": null,
            "min_height": null,
            "min_width": null,
            "object_fit": null,
            "object_position": null,
            "order": null,
            "overflow": null,
            "overflow_x": null,
            "overflow_y": null,
            "padding": null,
            "right": null,
            "top": null,
            "visibility": "hidden",
            "width": null
          }
        },
        "872df661ce514e5a8515a1f62cb55a12": {
          "model_module": "@jupyter-widgets/controls",
          "model_module_version": "1.5.0",
          "model_name": "HTMLModel",
          "state": {
            "_dom_classes": [],
            "_model_module": "@jupyter-widgets/controls",
            "_model_module_version": "1.5.0",
            "_model_name": "HTMLModel",
            "_view_count": null,
            "_view_module": "@jupyter-widgets/controls",
            "_view_module_version": "1.5.0",
            "_view_name": "HTMLView",
            "description": "",
            "description_tooltip": null,
            "layout": "IPY_MODEL_1cecd6efc2094e3fb406098cd05bb474",
            "placeholder": "​",
            "style": "IPY_MODEL_2a9c111fa80a4885b40fbc8bb8a2e5da",
            "value": "Dl Size...: 100%"
          }
        },
        "875f39a6a7ae43d1bbc22bfb8b0de997": {
          "model_module": "@jupyter-widgets/base",
          "model_module_version": "1.2.0",
          "model_name": "LayoutModel",
          "state": {
            "_model_module": "@jupyter-widgets/base",
            "_model_module_version": "1.2.0",
            "_model_name": "LayoutModel",
            "_view_count": null,
            "_view_module": "@jupyter-widgets/base",
            "_view_module_version": "1.2.0",
            "_view_name": "LayoutView",
            "align_content": null,
            "align_items": null,
            "align_self": null,
            "border": null,
            "bottom": null,
            "display": null,
            "flex": null,
            "flex_flow": null,
            "grid_area": null,
            "grid_auto_columns": null,
            "grid_auto_flow": null,
            "grid_auto_rows": null,
            "grid_column": null,
            "grid_gap": null,
            "grid_row": null,
            "grid_template_areas": null,
            "grid_template_columns": null,
            "grid_template_rows": null,
            "height": null,
            "justify_content": null,
            "justify_items": null,
            "left": null,
            "margin": null,
            "max_height": null,
            "max_width": null,
            "min_height": null,
            "min_width": null,
            "object_fit": null,
            "object_position": null,
            "order": null,
            "overflow": null,
            "overflow_x": null,
            "overflow_y": null,
            "padding": null,
            "right": null,
            "top": null,
            "visibility": null,
            "width": null
          }
        },
        "8d0d153032b144cc8636a64430937f1b": {
          "model_module": "@jupyter-widgets/base",
          "model_module_version": "1.2.0",
          "model_name": "LayoutModel",
          "state": {
            "_model_module": "@jupyter-widgets/base",
            "_model_module_version": "1.2.0",
            "_model_name": "LayoutModel",
            "_view_count": null,
            "_view_module": "@jupyter-widgets/base",
            "_view_module_version": "1.2.0",
            "_view_name": "LayoutView",
            "align_content": null,
            "align_items": null,
            "align_self": null,
            "border": null,
            "bottom": null,
            "display": null,
            "flex": null,
            "flex_flow": null,
            "grid_area": null,
            "grid_auto_columns": null,
            "grid_auto_flow": null,
            "grid_auto_rows": null,
            "grid_column": null,
            "grid_gap": null,
            "grid_row": null,
            "grid_template_areas": null,
            "grid_template_columns": null,
            "grid_template_rows": null,
            "height": null,
            "justify_content": null,
            "justify_items": null,
            "left": null,
            "margin": null,
            "max_height": null,
            "max_width": null,
            "min_height": null,
            "min_width": null,
            "object_fit": null,
            "object_position": null,
            "order": null,
            "overflow": null,
            "overflow_x": null,
            "overflow_y": null,
            "padding": null,
            "right": null,
            "top": null,
            "visibility": null,
            "width": null
          }
        },
        "8dc00bf45bb44b15ac2c35a7e455b125": {
          "model_module": "@jupyter-widgets/base",
          "model_module_version": "1.2.0",
          "model_name": "LayoutModel",
          "state": {
            "_model_module": "@jupyter-widgets/base",
            "_model_module_version": "1.2.0",
            "_model_name": "LayoutModel",
            "_view_count": null,
            "_view_module": "@jupyter-widgets/base",
            "_view_module_version": "1.2.0",
            "_view_name": "LayoutView",
            "align_content": null,
            "align_items": null,
            "align_self": null,
            "border": null,
            "bottom": null,
            "display": null,
            "flex": null,
            "flex_flow": null,
            "grid_area": null,
            "grid_auto_columns": null,
            "grid_auto_flow": null,
            "grid_auto_rows": null,
            "grid_column": null,
            "grid_gap": null,
            "grid_row": null,
            "grid_template_areas": null,
            "grid_template_columns": null,
            "grid_template_rows": null,
            "height": null,
            "justify_content": null,
            "justify_items": null,
            "left": null,
            "margin": null,
            "max_height": null,
            "max_width": null,
            "min_height": null,
            "min_width": null,
            "object_fit": null,
            "object_position": null,
            "order": null,
            "overflow": null,
            "overflow_x": null,
            "overflow_y": null,
            "padding": null,
            "right": null,
            "top": null,
            "visibility": null,
            "width": null
          }
        },
        "8f18d3588f214110affd0b79856db55b": {
          "model_module": "@jupyter-widgets/controls",
          "model_module_version": "1.5.0",
          "model_name": "ProgressStyleModel",
          "state": {
            "_model_module": "@jupyter-widgets/controls",
            "_model_module_version": "1.5.0",
            "_model_name": "ProgressStyleModel",
            "_view_count": null,
            "_view_module": "@jupyter-widgets/base",
            "_view_module_version": "1.2.0",
            "_view_name": "StyleView",
            "bar_color": null,
            "description_width": ""
          }
        },
        "9452daa1a9ce4c14bcea4bf7a9378d11": {
          "model_module": "@jupyter-widgets/controls",
          "model_module_version": "1.5.0",
          "model_name": "DescriptionStyleModel",
          "state": {
            "_model_module": "@jupyter-widgets/controls",
            "_model_module_version": "1.5.0",
            "_model_name": "DescriptionStyleModel",
            "_view_count": null,
            "_view_module": "@jupyter-widgets/base",
            "_view_module_version": "1.2.0",
            "_view_name": "StyleView",
            "description_width": ""
          }
        },
        "99bd1201a08145ccadabdafde3b22057": {
          "model_module": "@jupyter-widgets/controls",
          "model_module_version": "1.5.0",
          "model_name": "DescriptionStyleModel",
          "state": {
            "_model_module": "@jupyter-widgets/controls",
            "_model_module_version": "1.5.0",
            "_model_name": "DescriptionStyleModel",
            "_view_count": null,
            "_view_module": "@jupyter-widgets/base",
            "_view_module_version": "1.2.0",
            "_view_name": "StyleView",
            "description_width": ""
          }
        },
        "9f3b52bb053c48eeb10a94b05462593a": {
          "model_module": "@jupyter-widgets/base",
          "model_module_version": "1.2.0",
          "model_name": "LayoutModel",
          "state": {
            "_model_module": "@jupyter-widgets/base",
            "_model_module_version": "1.2.0",
            "_model_name": "LayoutModel",
            "_view_count": null,
            "_view_module": "@jupyter-widgets/base",
            "_view_module_version": "1.2.0",
            "_view_name": "LayoutView",
            "align_content": null,
            "align_items": null,
            "align_self": null,
            "border": null,
            "bottom": null,
            "display": null,
            "flex": null,
            "flex_flow": null,
            "grid_area": null,
            "grid_auto_columns": null,
            "grid_auto_flow": null,
            "grid_auto_rows": null,
            "grid_column": null,
            "grid_gap": null,
            "grid_row": null,
            "grid_template_areas": null,
            "grid_template_columns": null,
            "grid_template_rows": null,
            "height": null,
            "justify_content": null,
            "justify_items": null,
            "left": null,
            "margin": null,
            "max_height": null,
            "max_width": null,
            "min_height": null,
            "min_width": null,
            "object_fit": null,
            "object_position": null,
            "order": null,
            "overflow": null,
            "overflow_x": null,
            "overflow_y": null,
            "padding": null,
            "right": null,
            "top": null,
            "visibility": null,
            "width": null
          }
        },
        "9fc9a3bf3fec4358a47d1fa8fd7e5651": {
          "model_module": "@jupyter-widgets/controls",
          "model_module_version": "1.5.0",
          "model_name": "HBoxModel",
          "state": {
            "_dom_classes": [],
            "_model_module": "@jupyter-widgets/controls",
            "_model_module_version": "1.5.0",
            "_model_name": "HBoxModel",
            "_view_count": null,
            "_view_module": "@jupyter-widgets/controls",
            "_view_module_version": "1.5.0",
            "_view_name": "HBoxView",
            "box_style": "",
            "children": [
              "IPY_MODEL_872df661ce514e5a8515a1f62cb55a12",
              "IPY_MODEL_e1bfb4152b3743adb15e2c21ca038075",
              "IPY_MODEL_a0f273ac687748a7a96e1e4346daece5"
            ],
            "layout": "IPY_MODEL_cebb1bdc0dfc44f68ba2503e0aba4965"
          }
        },
        "a0f273ac687748a7a96e1e4346daece5": {
          "model_module": "@jupyter-widgets/controls",
          "model_module_version": "1.5.0",
          "model_name": "HTMLModel",
          "state": {
            "_dom_classes": [],
            "_model_module": "@jupyter-widgets/controls",
            "_model_module_version": "1.5.0",
            "_model_name": "HTMLModel",
            "_view_count": null,
            "_view_module": "@jupyter-widgets/controls",
            "_view_module_version": "1.5.0",
            "_view_name": "HTMLView",
            "description": "",
            "description_tooltip": null,
            "layout": "IPY_MODEL_9f3b52bb053c48eeb10a94b05462593a",
            "placeholder": "​",
            "style": "IPY_MODEL_3312c6e5382b45cf8e39d79736486ef9",
            "value": " 162/162 [00:09&lt;00:00, 26.67 MiB/s]"
          }
        },
        "a1df5baaa13c47569b1db91bcf0f1798": {
          "model_module": "@jupyter-widgets/controls",
          "model_module_version": "1.5.0",
          "model_name": "ProgressStyleModel",
          "state": {
            "_model_module": "@jupyter-widgets/controls",
            "_model_module_version": "1.5.0",
            "_model_name": "ProgressStyleModel",
            "_view_count": null,
            "_view_module": "@jupyter-widgets/base",
            "_view_module_version": "1.2.0",
            "_view_name": "StyleView",
            "bar_color": null,
            "description_width": ""
          }
        },
        "a6dc301424744b899b5868c502084638": {
          "model_module": "@jupyter-widgets/controls",
          "model_module_version": "1.5.0",
          "model_name": "FloatProgressModel",
          "state": {
            "_dom_classes": [],
            "_model_module": "@jupyter-widgets/controls",
            "_model_module_version": "1.5.0",
            "_model_name": "FloatProgressModel",
            "_view_count": null,
            "_view_module": "@jupyter-widgets/controls",
            "_view_module_version": "1.5.0",
            "_view_name": "ProgressView",
            "bar_style": "success",
            "description": "",
            "description_tooltip": null,
            "layout": "IPY_MODEL_044871c04ac64659a2875482770c9e79",
            "max": 1,
            "min": 0,
            "orientation": "horizontal",
            "style": "IPY_MODEL_a7613b84b7844d63b89e80f443efaf19",
            "value": 1
          }
        },
        "a7613b84b7844d63b89e80f443efaf19": {
          "model_module": "@jupyter-widgets/controls",
          "model_module_version": "1.5.0",
          "model_name": "ProgressStyleModel",
          "state": {
            "_model_module": "@jupyter-widgets/controls",
            "_model_module_version": "1.5.0",
            "_model_name": "ProgressStyleModel",
            "_view_count": null,
            "_view_module": "@jupyter-widgets/base",
            "_view_module_version": "1.2.0",
            "_view_name": "StyleView",
            "bar_color": null,
            "description_width": ""
          }
        },
        "a85f7bb452d348f7b08867f5e2455ba1": {
          "model_module": "@jupyter-widgets/controls",
          "model_module_version": "1.5.0",
          "model_name": "DescriptionStyleModel",
          "state": {
            "_model_module": "@jupyter-widgets/controls",
            "_model_module_version": "1.5.0",
            "_model_name": "DescriptionStyleModel",
            "_view_count": null,
            "_view_module": "@jupyter-widgets/base",
            "_view_module_version": "1.2.0",
            "_view_name": "StyleView",
            "description_width": ""
          }
        },
        "afc698a735d3428e9cacb12835941982": {
          "model_module": "@jupyter-widgets/controls",
          "model_module_version": "1.5.0",
          "model_name": "HTMLModel",
          "state": {
            "_dom_classes": [],
            "_model_module": "@jupyter-widgets/controls",
            "_model_module_version": "1.5.0",
            "_model_name": "HTMLModel",
            "_view_count": null,
            "_view_module": "@jupyter-widgets/controls",
            "_view_module_version": "1.5.0",
            "_view_name": "HTMLView",
            "description": "",
            "description_tooltip": null,
            "layout": "IPY_MODEL_e11e73d2470b477ea9a95f86a3d9e56a",
            "placeholder": "​",
            "style": "IPY_MODEL_6ab0ccc98f824713ad87a2e9a644c35c",
            "value": "Shuffling /root/tensorflow_datasets/cifar10/incomplete.0AGEL1_3.0.2/cifar10-test.tfrecord*...:   0%"
          }
        },
        "b022f15feec24be1ae413eb51d7b2678": {
          "model_module": "@jupyter-widgets/base",
          "model_module_version": "1.2.0",
          "model_name": "LayoutModel",
          "state": {
            "_model_module": "@jupyter-widgets/base",
            "_model_module_version": "1.2.0",
            "_model_name": "LayoutModel",
            "_view_count": null,
            "_view_module": "@jupyter-widgets/base",
            "_view_module_version": "1.2.0",
            "_view_name": "LayoutView",
            "align_content": null,
            "align_items": null,
            "align_self": null,
            "border": null,
            "bottom": null,
            "display": null,
            "flex": null,
            "flex_flow": null,
            "grid_area": null,
            "grid_auto_columns": null,
            "grid_auto_flow": null,
            "grid_auto_rows": null,
            "grid_column": null,
            "grid_gap": null,
            "grid_row": null,
            "grid_template_areas": null,
            "grid_template_columns": null,
            "grid_template_rows": null,
            "height": null,
            "justify_content": null,
            "justify_items": null,
            "left": null,
            "margin": null,
            "max_height": null,
            "max_width": null,
            "min_height": null,
            "min_width": null,
            "object_fit": null,
            "object_position": null,
            "order": null,
            "overflow": null,
            "overflow_x": null,
            "overflow_y": null,
            "padding": null,
            "right": null,
            "top": null,
            "visibility": null,
            "width": null
          }
        },
        "b1e3feb5ce94421c96565daeed34356b": {
          "model_module": "@jupyter-widgets/controls",
          "model_module_version": "1.5.0",
          "model_name": "ProgressStyleModel",
          "state": {
            "_model_module": "@jupyter-widgets/controls",
            "_model_module_version": "1.5.0",
            "_model_name": "ProgressStyleModel",
            "_view_count": null,
            "_view_module": "@jupyter-widgets/base",
            "_view_module_version": "1.2.0",
            "_view_name": "StyleView",
            "bar_color": null,
            "description_width": ""
          }
        },
        "b2eff29ea5e1410f82c7aef67b5b1352": {
          "model_module": "@jupyter-widgets/base",
          "model_module_version": "1.2.0",
          "model_name": "LayoutModel",
          "state": {
            "_model_module": "@jupyter-widgets/base",
            "_model_module_version": "1.2.0",
            "_model_name": "LayoutModel",
            "_view_count": null,
            "_view_module": "@jupyter-widgets/base",
            "_view_module_version": "1.2.0",
            "_view_name": "LayoutView",
            "align_content": null,
            "align_items": null,
            "align_self": null,
            "border": null,
            "bottom": null,
            "display": null,
            "flex": null,
            "flex_flow": null,
            "grid_area": null,
            "grid_auto_columns": null,
            "grid_auto_flow": null,
            "grid_auto_rows": null,
            "grid_column": null,
            "grid_gap": null,
            "grid_row": null,
            "grid_template_areas": null,
            "grid_template_columns": null,
            "grid_template_rows": null,
            "height": null,
            "justify_content": null,
            "justify_items": null,
            "left": null,
            "margin": null,
            "max_height": null,
            "max_width": null,
            "min_height": null,
            "min_width": null,
            "object_fit": null,
            "object_position": null,
            "order": null,
            "overflow": null,
            "overflow_x": null,
            "overflow_y": null,
            "padding": null,
            "right": null,
            "top": null,
            "visibility": null,
            "width": null
          }
        },
        "b5f133cf1cba4add96fff56a10665861": {
          "model_module": "@jupyter-widgets/controls",
          "model_module_version": "1.5.0",
          "model_name": "DescriptionStyleModel",
          "state": {
            "_model_module": "@jupyter-widgets/controls",
            "_model_module_version": "1.5.0",
            "_model_name": "DescriptionStyleModel",
            "_view_count": null,
            "_view_module": "@jupyter-widgets/base",
            "_view_module_version": "1.2.0",
            "_view_name": "StyleView",
            "description_width": ""
          }
        },
        "b75770183b184ff0ab66f7f5a91c70f4": {
          "model_module": "@jupyter-widgets/base",
          "model_module_version": "1.2.0",
          "model_name": "LayoutModel",
          "state": {
            "_model_module": "@jupyter-widgets/base",
            "_model_module_version": "1.2.0",
            "_model_name": "LayoutModel",
            "_view_count": null,
            "_view_module": "@jupyter-widgets/base",
            "_view_module_version": "1.2.0",
            "_view_name": "LayoutView",
            "align_content": null,
            "align_items": null,
            "align_self": null,
            "border": null,
            "bottom": null,
            "display": null,
            "flex": null,
            "flex_flow": null,
            "grid_area": null,
            "grid_auto_columns": null,
            "grid_auto_flow": null,
            "grid_auto_rows": null,
            "grid_column": null,
            "grid_gap": null,
            "grid_row": null,
            "grid_template_areas": null,
            "grid_template_columns": null,
            "grid_template_rows": null,
            "height": null,
            "justify_content": null,
            "justify_items": null,
            "left": null,
            "margin": null,
            "max_height": null,
            "max_width": null,
            "min_height": null,
            "min_width": null,
            "object_fit": null,
            "object_position": null,
            "order": null,
            "overflow": null,
            "overflow_x": null,
            "overflow_y": null,
            "padding": null,
            "right": null,
            "top": null,
            "visibility": null,
            "width": "20px"
          }
        },
        "bbadf758e3fb40d5b2c96505244dcc73": {
          "model_module": "@jupyter-widgets/base",
          "model_module_version": "1.2.0",
          "model_name": "LayoutModel",
          "state": {
            "_model_module": "@jupyter-widgets/base",
            "_model_module_version": "1.2.0",
            "_model_name": "LayoutModel",
            "_view_count": null,
            "_view_module": "@jupyter-widgets/base",
            "_view_module_version": "1.2.0",
            "_view_name": "LayoutView",
            "align_content": null,
            "align_items": null,
            "align_self": null,
            "border": null,
            "bottom": null,
            "display": null,
            "flex": null,
            "flex_flow": null,
            "grid_area": null,
            "grid_auto_columns": null,
            "grid_auto_flow": null,
            "grid_auto_rows": null,
            "grid_column": null,
            "grid_gap": null,
            "grid_row": null,
            "grid_template_areas": null,
            "grid_template_columns": null,
            "grid_template_rows": null,
            "height": null,
            "justify_content": null,
            "justify_items": null,
            "left": null,
            "margin": null,
            "max_height": null,
            "max_width": null,
            "min_height": null,
            "min_width": null,
            "object_fit": null,
            "object_position": null,
            "order": null,
            "overflow": null,
            "overflow_x": null,
            "overflow_y": null,
            "padding": null,
            "right": null,
            "top": null,
            "visibility": null,
            "width": null
          }
        },
        "bd7657d6961f4775bc51a747effe6f46": {
          "model_module": "@jupyter-widgets/controls",
          "model_module_version": "1.5.0",
          "model_name": "DescriptionStyleModel",
          "state": {
            "_model_module": "@jupyter-widgets/controls",
            "_model_module_version": "1.5.0",
            "_model_name": "DescriptionStyleModel",
            "_view_count": null,
            "_view_module": "@jupyter-widgets/base",
            "_view_module_version": "1.2.0",
            "_view_name": "StyleView",
            "description_width": ""
          }
        },
        "be9be1af897e4fd7ada4e25ba927d213": {
          "model_module": "@jupyter-widgets/controls",
          "model_module_version": "1.5.0",
          "model_name": "DescriptionStyleModel",
          "state": {
            "_model_module": "@jupyter-widgets/controls",
            "_model_module_version": "1.5.0",
            "_model_name": "DescriptionStyleModel",
            "_view_count": null,
            "_view_module": "@jupyter-widgets/base",
            "_view_module_version": "1.2.0",
            "_view_name": "StyleView",
            "description_width": ""
          }
        },
        "bfe0148f32a240169ccbe222854f050e": {
          "model_module": "@jupyter-widgets/base",
          "model_module_version": "1.2.0",
          "model_name": "LayoutModel",
          "state": {
            "_model_module": "@jupyter-widgets/base",
            "_model_module_version": "1.2.0",
            "_model_name": "LayoutModel",
            "_view_count": null,
            "_view_module": "@jupyter-widgets/base",
            "_view_module_version": "1.2.0",
            "_view_name": "LayoutView",
            "align_content": null,
            "align_items": null,
            "align_self": null,
            "border": null,
            "bottom": null,
            "display": null,
            "flex": null,
            "flex_flow": null,
            "grid_area": null,
            "grid_auto_columns": null,
            "grid_auto_flow": null,
            "grid_auto_rows": null,
            "grid_column": null,
            "grid_gap": null,
            "grid_row": null,
            "grid_template_areas": null,
            "grid_template_columns": null,
            "grid_template_rows": null,
            "height": null,
            "justify_content": null,
            "justify_items": null,
            "left": null,
            "margin": null,
            "max_height": null,
            "max_width": null,
            "min_height": null,
            "min_width": null,
            "object_fit": null,
            "object_position": null,
            "order": null,
            "overflow": null,
            "overflow_x": null,
            "overflow_y": null,
            "padding": null,
            "right": null,
            "top": null,
            "visibility": null,
            "width": null
          }
        },
        "c06e27bc0f9c4629abae5f574bdda4a3": {
          "model_module": "@jupyter-widgets/controls",
          "model_module_version": "1.5.0",
          "model_name": "HTMLModel",
          "state": {
            "_dom_classes": [],
            "_model_module": "@jupyter-widgets/controls",
            "_model_module_version": "1.5.0",
            "_model_name": "HTMLModel",
            "_view_count": null,
            "_view_module": "@jupyter-widgets/controls",
            "_view_module_version": "1.5.0",
            "_view_name": "HTMLView",
            "description": "",
            "description_tooltip": null,
            "layout": "IPY_MODEL_dcc169f94d2f4d268dd0542f1a3479ef",
            "placeholder": "​",
            "style": "IPY_MODEL_d83b87df183d4865a6db4c96c1aec572",
            "value": "Generating splits...: 100%"
          }
        },
        "c101d5269e324a17b1c00209751d0083": {
          "model_module": "@jupyter-widgets/controls",
          "model_module_version": "1.5.0",
          "model_name": "ProgressStyleModel",
          "state": {
            "_model_module": "@jupyter-widgets/controls",
            "_model_module_version": "1.5.0",
            "_model_name": "ProgressStyleModel",
            "_view_count": null,
            "_view_module": "@jupyter-widgets/base",
            "_view_module_version": "1.2.0",
            "_view_name": "StyleView",
            "bar_color": null,
            "description_width": ""
          }
        },
        "c17c930766b74065a38544e68b953a6b": {
          "model_module": "@jupyter-widgets/controls",
          "model_module_version": "1.5.0",
          "model_name": "HTMLModel",
          "state": {
            "_dom_classes": [],
            "_model_module": "@jupyter-widgets/controls",
            "_model_module_version": "1.5.0",
            "_model_name": "HTMLModel",
            "_view_count": null,
            "_view_module": "@jupyter-widgets/controls",
            "_view_module_version": "1.5.0",
            "_view_name": "HTMLView",
            "description": "",
            "description_tooltip": null,
            "layout": "IPY_MODEL_4249208ee6f94d6585f11361b1569014",
            "placeholder": "​",
            "style": "IPY_MODEL_9452daa1a9ce4c14bcea4bf7a9378d11",
            "value": "Extraction completed...: 100%"
          }
        },
        "c5df2da3f7c94418a095fa109160b89d": {
          "model_module": "@jupyter-widgets/controls",
          "model_module_version": "1.5.0",
          "model_name": "FloatProgressModel",
          "state": {
            "_dom_classes": [],
            "_model_module": "@jupyter-widgets/controls",
            "_model_module_version": "1.5.0",
            "_model_name": "FloatProgressModel",
            "_view_count": null,
            "_view_module": "@jupyter-widgets/controls",
            "_view_module_version": "1.5.0",
            "_view_name": "ProgressView",
            "bar_style": "success",
            "description": "",
            "description_tooltip": null,
            "layout": "IPY_MODEL_b75770183b184ff0ab66f7f5a91c70f4",
            "max": 1,
            "min": 0,
            "orientation": "horizontal",
            "style": "IPY_MODEL_b1e3feb5ce94421c96565daeed34356b",
            "value": 1
          }
        },
        "cebb1bdc0dfc44f68ba2503e0aba4965": {
          "model_module": "@jupyter-widgets/base",
          "model_module_version": "1.2.0",
          "model_name": "LayoutModel",
          "state": {
            "_model_module": "@jupyter-widgets/base",
            "_model_module_version": "1.2.0",
            "_model_name": "LayoutModel",
            "_view_count": null,
            "_view_module": "@jupyter-widgets/base",
            "_view_module_version": "1.2.0",
            "_view_name": "LayoutView",
            "align_content": null,
            "align_items": null,
            "align_self": null,
            "border": null,
            "bottom": null,
            "display": null,
            "flex": null,
            "flex_flow": null,
            "grid_area": null,
            "grid_auto_columns": null,
            "grid_auto_flow": null,
            "grid_auto_rows": null,
            "grid_column": null,
            "grid_gap": null,
            "grid_row": null,
            "grid_template_areas": null,
            "grid_template_columns": null,
            "grid_template_rows": null,
            "height": null,
            "justify_content": null,
            "justify_items": null,
            "left": null,
            "margin": null,
            "max_height": null,
            "max_width": null,
            "min_height": null,
            "min_width": null,
            "object_fit": null,
            "object_position": null,
            "order": null,
            "overflow": null,
            "overflow_x": null,
            "overflow_y": null,
            "padding": null,
            "right": null,
            "top": null,
            "visibility": null,
            "width": null
          }
        },
        "cfcfe7719b444fa1854de6bd8fd32819": {
          "model_module": "@jupyter-widgets/controls",
          "model_module_version": "1.5.0",
          "model_name": "DescriptionStyleModel",
          "state": {
            "_model_module": "@jupyter-widgets/controls",
            "_model_module_version": "1.5.0",
            "_model_name": "DescriptionStyleModel",
            "_view_count": null,
            "_view_module": "@jupyter-widgets/base",
            "_view_module_version": "1.2.0",
            "_view_name": "StyleView",
            "description_width": ""
          }
        },
        "d6265eedd1c94ce0848907d231597d4d": {
          "model_module": "@jupyter-widgets/controls",
          "model_module_version": "1.5.0",
          "model_name": "HTMLModel",
          "state": {
            "_dom_classes": [],
            "_model_module": "@jupyter-widgets/controls",
            "_model_module_version": "1.5.0",
            "_model_name": "HTMLModel",
            "_view_count": null,
            "_view_module": "@jupyter-widgets/controls",
            "_view_module_version": "1.5.0",
            "_view_name": "HTMLView",
            "description": "",
            "description_tooltip": null,
            "layout": "IPY_MODEL_3b76be786529473fa968050bea45c2bd",
            "placeholder": "​",
            "style": "IPY_MODEL_bd7657d6961f4775bc51a747effe6f46",
            "value": " 0/10000 [00:00&lt;?, ? examples/s]"
          }
        },
        "d83b87df183d4865a6db4c96c1aec572": {
          "model_module": "@jupyter-widgets/controls",
          "model_module_version": "1.5.0",
          "model_name": "DescriptionStyleModel",
          "state": {
            "_model_module": "@jupyter-widgets/controls",
            "_model_module_version": "1.5.0",
            "_model_name": "DescriptionStyleModel",
            "_view_count": null,
            "_view_module": "@jupyter-widgets/base",
            "_view_module_version": "1.2.0",
            "_view_name": "StyleView",
            "description_width": ""
          }
        },
        "dcc169f94d2f4d268dd0542f1a3479ef": {
          "model_module": "@jupyter-widgets/base",
          "model_module_version": "1.2.0",
          "model_name": "LayoutModel",
          "state": {
            "_model_module": "@jupyter-widgets/base",
            "_model_module_version": "1.2.0",
            "_model_name": "LayoutModel",
            "_view_count": null,
            "_view_module": "@jupyter-widgets/base",
            "_view_module_version": "1.2.0",
            "_view_name": "LayoutView",
            "align_content": null,
            "align_items": null,
            "align_self": null,
            "border": null,
            "bottom": null,
            "display": null,
            "flex": null,
            "flex_flow": null,
            "grid_area": null,
            "grid_auto_columns": null,
            "grid_auto_flow": null,
            "grid_auto_rows": null,
            "grid_column": null,
            "grid_gap": null,
            "grid_row": null,
            "grid_template_areas": null,
            "grid_template_columns": null,
            "grid_template_rows": null,
            "height": null,
            "justify_content": null,
            "justify_items": null,
            "left": null,
            "margin": null,
            "max_height": null,
            "max_width": null,
            "min_height": null,
            "min_width": null,
            "object_fit": null,
            "object_position": null,
            "order": null,
            "overflow": null,
            "overflow_x": null,
            "overflow_y": null,
            "padding": null,
            "right": null,
            "top": null,
            "visibility": null,
            "width": null
          }
        },
        "df71ab6649c5462493a0a6e0e84fb48c": {
          "model_module": "@jupyter-widgets/controls",
          "model_module_version": "1.5.0",
          "model_name": "FloatProgressModel",
          "state": {
            "_dom_classes": [],
            "_model_module": "@jupyter-widgets/controls",
            "_model_module_version": "1.5.0",
            "_model_name": "FloatProgressModel",
            "_view_count": null,
            "_view_module": "@jupyter-widgets/controls",
            "_view_module_version": "1.5.0",
            "_view_name": "ProgressView",
            "bar_style": "",
            "description": "",
            "description_tooltip": null,
            "layout": "IPY_MODEL_e6f005e20f8e487594acbaac39f75c77",
            "max": 50000,
            "min": 0,
            "orientation": "horizontal",
            "style": "IPY_MODEL_a1df5baaa13c47569b1db91bcf0f1798",
            "value": 50000
          }
        },
        "e11e73d2470b477ea9a95f86a3d9e56a": {
          "model_module": "@jupyter-widgets/base",
          "model_module_version": "1.2.0",
          "model_name": "LayoutModel",
          "state": {
            "_model_module": "@jupyter-widgets/base",
            "_model_module_version": "1.2.0",
            "_model_name": "LayoutModel",
            "_view_count": null,
            "_view_module": "@jupyter-widgets/base",
            "_view_module_version": "1.2.0",
            "_view_name": "LayoutView",
            "align_content": null,
            "align_items": null,
            "align_self": null,
            "border": null,
            "bottom": null,
            "display": null,
            "flex": null,
            "flex_flow": null,
            "grid_area": null,
            "grid_auto_columns": null,
            "grid_auto_flow": null,
            "grid_auto_rows": null,
            "grid_column": null,
            "grid_gap": null,
            "grid_row": null,
            "grid_template_areas": null,
            "grid_template_columns": null,
            "grid_template_rows": null,
            "height": null,
            "justify_content": null,
            "justify_items": null,
            "left": null,
            "margin": null,
            "max_height": null,
            "max_width": null,
            "min_height": null,
            "min_width": null,
            "object_fit": null,
            "object_position": null,
            "order": null,
            "overflow": null,
            "overflow_x": null,
            "overflow_y": null,
            "padding": null,
            "right": null,
            "top": null,
            "visibility": null,
            "width": null
          }
        },
        "e1bfb4152b3743adb15e2c21ca038075": {
          "model_module": "@jupyter-widgets/controls",
          "model_module_version": "1.5.0",
          "model_name": "FloatProgressModel",
          "state": {
            "_dom_classes": [],
            "_model_module": "@jupyter-widgets/controls",
            "_model_module_version": "1.5.0",
            "_model_name": "FloatProgressModel",
            "_view_count": null,
            "_view_module": "@jupyter-widgets/controls",
            "_view_module_version": "1.5.0",
            "_view_name": "ProgressView",
            "bar_style": "success",
            "description": "",
            "description_tooltip": null,
            "layout": "IPY_MODEL_0fba0d4348f94e0b88fb720b9e8f8fbf",
            "max": 1,
            "min": 0,
            "orientation": "horizontal",
            "style": "IPY_MODEL_688811c37c45493690ff12faaf5b6e14",
            "value": 1
          }
        },
        "e6f005e20f8e487594acbaac39f75c77": {
          "model_module": "@jupyter-widgets/base",
          "model_module_version": "1.2.0",
          "model_name": "LayoutModel",
          "state": {
            "_model_module": "@jupyter-widgets/base",
            "_model_module_version": "1.2.0",
            "_model_name": "LayoutModel",
            "_view_count": null,
            "_view_module": "@jupyter-widgets/base",
            "_view_module_version": "1.2.0",
            "_view_name": "LayoutView",
            "align_content": null,
            "align_items": null,
            "align_self": null,
            "border": null,
            "bottom": null,
            "display": null,
            "flex": null,
            "flex_flow": null,
            "grid_area": null,
            "grid_auto_columns": null,
            "grid_auto_flow": null,
            "grid_auto_rows": null,
            "grid_column": null,
            "grid_gap": null,
            "grid_row": null,
            "grid_template_areas": null,
            "grid_template_columns": null,
            "grid_template_rows": null,
            "height": null,
            "justify_content": null,
            "justify_items": null,
            "left": null,
            "margin": null,
            "max_height": null,
            "max_width": null,
            "min_height": null,
            "min_width": null,
            "object_fit": null,
            "object_position": null,
            "order": null,
            "overflow": null,
            "overflow_x": null,
            "overflow_y": null,
            "padding": null,
            "right": null,
            "top": null,
            "visibility": null,
            "width": null
          }
        },
        "e8063e1295174044839caa978a503125": {
          "model_module": "@jupyter-widgets/controls",
          "model_module_version": "1.5.0",
          "model_name": "HTMLModel",
          "state": {
            "_dom_classes": [],
            "_model_module": "@jupyter-widgets/controls",
            "_model_module_version": "1.5.0",
            "_model_name": "HTMLModel",
            "_view_count": null,
            "_view_module": "@jupyter-widgets/controls",
            "_view_module_version": "1.5.0",
            "_view_name": "HTMLView",
            "description": "",
            "description_tooltip": null,
            "layout": "IPY_MODEL_8d0d153032b144cc8636a64430937f1b",
            "placeholder": "​",
            "style": "IPY_MODEL_4ddd24929cb042a385e0fdbde74138f7",
            "value": "Dl Completed...: 100%"
          }
        },
        "ec0f566f2e42446c94cc3a4a1dc83873": {
          "model_module": "@jupyter-widgets/controls",
          "model_module_version": "1.5.0",
          "model_name": "FloatProgressModel",
          "state": {
            "_dom_classes": [],
            "_model_module": "@jupyter-widgets/controls",
            "_model_module_version": "1.5.0",
            "_model_name": "FloatProgressModel",
            "_view_count": null,
            "_view_module": "@jupyter-widgets/controls",
            "_view_module_version": "1.5.0",
            "_view_name": "ProgressView",
            "bar_style": "",
            "description": "",
            "description_tooltip": null,
            "layout": "IPY_MODEL_5a453d03333247bf83f00c20ce65a21f",
            "max": 10000,
            "min": 0,
            "orientation": "horizontal",
            "style": "IPY_MODEL_8f18d3588f214110affd0b79856db55b",
            "value": 10000
          }
        },
        "fb70cfc1e85f4a66997f10348766f438": {
          "model_module": "@jupyter-widgets/controls",
          "model_module_version": "1.5.0",
          "model_name": "HTMLModel",
          "state": {
            "_dom_classes": [],
            "_model_module": "@jupyter-widgets/controls",
            "_model_module_version": "1.5.0",
            "_model_name": "HTMLModel",
            "_view_count": null,
            "_view_module": "@jupyter-widgets/controls",
            "_view_module_version": "1.5.0",
            "_view_name": "HTMLView",
            "description": "",
            "description_tooltip": null,
            "layout": "IPY_MODEL_bfe0148f32a240169ccbe222854f050e",
            "placeholder": "​",
            "style": "IPY_MODEL_99bd1201a08145ccadabdafde3b22057",
            "value": " 8/8 [00:09&lt;00:00,  9.28s/ file]"
          }
        },
        "fc17c999563349048469225e2f87dfc6": {
          "model_module": "@jupyter-widgets/controls",
          "model_module_version": "1.5.0",
          "model_name": "DescriptionStyleModel",
          "state": {
            "_model_module": "@jupyter-widgets/controls",
            "_model_module_version": "1.5.0",
            "_model_name": "DescriptionStyleModel",
            "_view_count": null,
            "_view_module": "@jupyter-widgets/base",
            "_view_module_version": "1.2.0",
            "_view_name": "StyleView",
            "description_width": ""
          }
        }
      }
    }
  },
  "nbformat": 4,
  "nbformat_minor": 0
}
